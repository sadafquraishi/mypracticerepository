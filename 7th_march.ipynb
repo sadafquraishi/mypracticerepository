{
  "nbformat": 4,
  "nbformat_minor": 0,
  "metadata": {
    "colab": {
      "name": "7th march.ipynb",
      "provenance": [],
      "authorship_tag": "ABX9TyNRH8GfyHVRegCZOc/ARPlh",
      "include_colab_link": true
    },
    "kernelspec": {
      "name": "python3",
      "display_name": "Python 3"
    }
  },
  "cells": [
    {
      "cell_type": "markdown",
      "metadata": {
        "id": "view-in-github",
        "colab_type": "text"
      },
      "source": [
        "<a href=\"https://colab.research.google.com/github/sadafquraishi/mypracticerepository/blob/master/7th_march.ipynb\" target=\"_parent\"><img src=\"https://colab.research.google.com/assets/colab-badge.svg\" alt=\"Open In Colab\"/></a>"
      ]
    },
    {
      "cell_type": "code",
      "metadata": {
        "id": "tt_aUA61LuD9",
        "colab_type": "code",
        "colab": {}
      },
      "source": [
        "import numpy as np\n",
        "import pandas as pd\n",
        "import statistics as stats"
      ],
      "execution_count": 0,
      "outputs": []
    },
    {
      "cell_type": "code",
      "metadata": {
        "id": "yMFscHrUQUPK",
        "colab_type": "code",
        "colab": {}
      },
      "source": [
        "l1=np.random.randint(low=1, high=1000, size=100)\n"
      ],
      "execution_count": 0,
      "outputs": []
    },
    {
      "cell_type": "code",
      "metadata": {
        "id": "8JzL2RRlQZIG",
        "colab_type": "code",
        "colab": {
          "base_uri": "https://localhost:8080/",
          "height": 151
        },
        "outputId": "51d5914c-9063-4d71-a243-88633a260d43"
      },
      "source": [
        "l1"
      ],
      "execution_count": 34,
      "outputs": [
        {
          "output_type": "execute_result",
          "data": {
            "text/plain": [
              "array([561, 624, 875, 948, 501, 416, 762, 432, 866, 763, 238, 124, 814,\n",
              "       703, 776, 899, 152, 405, 838, 192, 807, 935,  73, 978, 616, 446,\n",
              "       701, 712, 381, 549, 841, 482, 915, 396, 756, 252, 321, 348, 866,\n",
              "       549, 981, 421, 403,  36, 439, 935, 833, 285, 478, 307, 475, 715,\n",
              "       873, 840, 255, 112, 811, 787, 231, 585, 398, 506,  19, 455, 250,\n",
              "       639, 528, 754, 924, 554, 435, 532, 869, 402, 441,   4, 446, 184,\n",
              "       925, 414, 887, 459, 562, 980, 194, 447, 502, 850, 365, 406, 932,\n",
              "        25, 937, 615, 394, 519,  77,  70, 419, 290])"
            ]
          },
          "metadata": {
            "tags": []
          },
          "execution_count": 34
        }
      ]
    },
    {
      "cell_type": "code",
      "metadata": {
        "id": "g5lw1KgTRoxz",
        "colab_type": "code",
        "colab": {}
      },
      "source": [
        "list_array=list()"
      ],
      "execution_count": 0,
      "outputs": []
    },
    {
      "cell_type": "code",
      "metadata": {
        "id": "PHs-86K6RMQj",
        "colab_type": "code",
        "colab": {}
      },
      "source": [
        "for i in range(1,31):\n",
        "  list_array.append(np.random.randint(low=1, high=1000, size=35))"
      ],
      "execution_count": 0,
      "outputs": []
    },
    {
      "cell_type": "code",
      "metadata": {
        "id": "dnafwzKERU_W",
        "colab_type": "code",
        "colab": {
          "base_uri": "https://localhost:8080/",
          "height": 1000
        },
        "outputId": "2873c7c1-7962-4138-b923-118157cbe1f3"
      },
      "source": [
        "\n",
        "list_array"
      ],
      "execution_count": 53,
      "outputs": [
        {
          "output_type": "execute_result",
          "data": {
            "text/plain": [
              "[array([921, 368, 922, 261, 627, 891, 668,  52,  80, 235, 284, 260, 285,\n",
              "        434, 501, 827, 359,  91, 783, 326, 632, 547, 897, 737, 301,  81,\n",
              "        809, 820, 708, 528,  13, 196, 974, 477, 289]),\n",
              " array([  1, 166, 416, 669, 285, 290, 792, 584, 366, 138, 719, 943, 635,\n",
              "        230, 590, 499, 766, 531, 197, 553, 552, 159, 410, 578, 436, 471,\n",
              "        519, 909, 749, 213, 255, 943, 955, 539, 406]),\n",
              " array([534, 199, 111, 537, 587, 734, 799, 812, 682, 633, 947,  12,   9,\n",
              "        460, 547, 697, 808, 529, 592, 654, 420,  88, 950, 344,  83, 221,\n",
              "        199, 415, 114, 902, 353,  65, 168, 233, 877]),\n",
              " array([880, 807, 893, 507, 511, 314, 441, 501, 175, 776, 150, 907, 760,\n",
              "         81, 978,  90, 419, 485, 950, 988, 177, 552, 781, 426, 808, 757,\n",
              "        138, 549, 813, 731, 216, 624, 564, 216, 935]),\n",
              " array([797, 106,   5, 409, 905, 998, 506, 363, 181, 437, 914, 916, 611,\n",
              "         16, 443, 961, 247, 546, 200, 690,  91, 926, 831, 821, 170, 672,\n",
              "        779, 619, 859, 634, 225,  44, 811, 719, 913]),\n",
              " array([885, 675, 407, 193, 723, 293, 908, 660, 985,  29, 264, 936,  84,\n",
              "        884, 554, 122, 553, 103, 932, 146, 760, 173, 556, 355, 302, 442,\n",
              "        289, 360, 521, 585, 125, 387, 533, 441, 367]),\n",
              " array([456,  43, 523, 241, 727, 600, 511, 972, 221, 893, 146, 717, 704,\n",
              "        614, 435, 604, 868, 501, 651, 280, 552, 668, 123, 520, 799, 506,\n",
              "        888, 989, 909, 156, 915, 529, 693, 622, 740]),\n",
              " array([712, 154, 161, 184, 440, 617, 548, 979, 676, 358, 933, 958, 133,\n",
              "        830, 810, 118, 708, 772, 452, 616, 606, 224, 199, 830, 458, 491,\n",
              "        774, 120, 533,  94,  69, 812,  55, 556, 346]),\n",
              " array([584, 572, 431, 317, 771, 762, 101, 976, 356, 544, 165, 524, 708,\n",
              "        124, 373, 196, 233, 441, 427, 324, 379, 639, 909, 297, 130, 413,\n",
              "        875, 839, 159, 295, 338, 583, 129, 478, 833]),\n",
              " array([302, 999, 472, 300, 993, 744, 565,   2,  14, 177, 653, 551, 951,\n",
              "        936, 962, 581, 574, 183, 855, 848, 709, 626, 397, 897, 814, 661,\n",
              "        384, 119, 435,  94,  92, 567, 713, 532,  26]),\n",
              " array([650, 368, 584, 143, 387, 823, 724, 708, 440, 875, 158, 883, 165,\n",
              "        199, 264,  92, 144, 612, 481, 484, 813, 487, 812, 874, 537, 859,\n",
              "         49, 894, 950, 199, 951, 710, 693, 401, 414]),\n",
              " array([963, 615, 114, 312, 732, 514, 787, 650, 641, 725, 376, 814, 688,\n",
              "        580, 287, 196,  67, 424, 905, 852, 210, 146, 590, 658, 961, 289,\n",
              "        735, 329, 141, 815, 801,  92, 924, 975, 441]),\n",
              " array([209, 402,   2, 363,  99, 222, 325, 187, 635, 690, 630, 991, 811,\n",
              "        704, 742, 519,  92, 262, 620, 341, 597, 431,  36, 928, 618, 328,\n",
              "        977, 945, 988, 884, 728, 635,  13, 101, 882]),\n",
              " array([419, 162, 891, 623, 221, 524, 399, 890, 696, 716, 807, 292,  41,\n",
              "        264, 415, 846,  79, 611, 253, 507, 728, 245, 335, 764, 915,  13,\n",
              "        359,  80, 896, 279,  16,  21, 239, 582, 895]),\n",
              " array([120, 712, 935, 341, 841, 957, 516, 376, 557, 320, 187,  13, 667,\n",
              "        129, 534, 293, 915, 360, 655, 276, 733, 753, 642, 122,  55, 732,\n",
              "        846, 455, 774, 895, 301, 677,   5, 578, 356]),\n",
              " array([966, 267, 819, 822, 650, 305, 974, 433, 544, 783, 883, 222, 540,\n",
              "        768, 762, 430, 323, 850,   1, 576, 175, 300, 188,  82, 192, 669,\n",
              "        407, 973, 966, 397, 158, 403, 760, 686, 523]),\n",
              " array([577, 382, 115, 560, 840, 815, 398, 229, 319, 322, 223, 851, 821,\n",
              "        888,  51, 256, 555, 161, 296, 122, 841, 267, 614, 648, 634, 220,\n",
              "        780, 976, 604, 157, 267, 693, 913,  86, 904]),\n",
              " array([398, 206, 545, 267,  19, 741, 181, 157,  24, 466,  19, 818, 889,\n",
              "        294, 742, 643, 712, 793, 998, 410, 772, 244,  43, 307, 342, 545,\n",
              "        781, 723,  51, 711, 525, 344, 106, 451,  17]),\n",
              " array([744, 879, 256, 867, 740,  54, 452, 873, 214, 674, 161,  63, 897,\n",
              "        342, 472, 288,  56, 188, 894, 850, 666, 682, 815, 668,  85, 930,\n",
              "        463, 234,  71, 437, 572, 972,  23, 875, 316]),\n",
              " array([729, 699, 850, 545, 688, 957, 117, 982, 564, 374,  49, 929, 564,\n",
              "        424,  43, 912, 660, 981, 377, 146, 527, 643, 481, 357, 554, 596,\n",
              "        169, 713, 440, 976, 541, 844, 275, 956, 576]),\n",
              " array([261, 132, 940, 514, 226, 746, 898, 723,   7,  27,  40, 327,  56,\n",
              "        108, 685,  70, 555,   4, 423, 291, 150, 513,  78, 619, 557,  69,\n",
              "        240, 618, 509, 203, 322, 269, 783, 706,  74]),\n",
              " array([775, 238,  31, 687,  97,  94,  23, 756, 119, 269, 102, 907, 713,\n",
              "        975, 780, 650, 701, 539,  22, 228, 464, 824, 385, 756, 953,  95,\n",
              "        184, 292, 845, 223, 234, 628, 185, 114, 154]),\n",
              " array([166,  16, 386,  62, 146,  30, 191, 349, 644, 326,  18, 172, 746,\n",
              "        618, 139, 715, 696, 449, 575, 239, 773, 461, 974, 553, 908, 340,\n",
              "        618, 262, 274, 742, 308, 239, 165, 562, 470]),\n",
              " array([503,  83,  43, 291, 812, 656, 100, 898,  77, 386,  68, 638, 350,\n",
              "        418, 408, 922, 286, 253, 765, 799, 375, 547, 738, 798, 649, 400,\n",
              "        116, 513, 641, 278, 734, 376, 657, 995,  86]),\n",
              " array([271, 787, 979, 112, 659, 845, 420, 141, 816, 979,  32,  35, 957,\n",
              "        291, 124, 605, 609, 508, 659, 762, 527, 181, 481, 571, 216, 238,\n",
              "        870, 753, 684, 647, 139, 239, 599, 226, 926]),\n",
              " array([761, 333, 370, 661, 981, 129, 633, 693,   7, 390, 911, 216, 172,\n",
              "        717, 682, 168, 960, 577, 171,  35, 300, 241, 521, 707,  97, 117,\n",
              "        985,   2, 216, 426, 667, 918,  10, 444, 333]),\n",
              " array([929, 729, 890, 799, 855, 420, 357, 167,  43, 953, 522, 441, 448,\n",
              "        154, 151, 428, 378, 267, 590, 510, 711, 823,  43, 705, 184, 500,\n",
              "        492, 279, 994, 505, 370, 631, 506, 497, 817]),\n",
              " array([779, 423,   9, 938,  11, 612, 480, 495, 785, 894, 670, 764,  35,\n",
              "         70, 789, 336, 508, 258,  66, 389, 249, 686, 103, 817, 577, 914,\n",
              "        635, 490, 581, 571, 821, 732, 937, 743, 847]),\n",
              " array([286, 440, 669, 815, 500, 579, 731, 270, 964, 416, 579, 745, 689,\n",
              "        636, 513, 166, 104, 440, 581,  80, 111, 853, 290, 609, 936, 987,\n",
              "        431, 201, 278, 563, 432, 749,  47, 701, 583]),\n",
              " array([471, 481, 321, 798, 735, 754, 186, 992, 487, 292, 144, 466, 636,\n",
              "         69, 255, 295, 259, 447, 285,  24,  12, 472, 518, 542, 312, 299,\n",
              "         18, 386, 324, 434, 979, 513,  97, 676, 482]),\n",
              " array([180, 201,  49, 249, 945, 183, 819, 763,  11, 675,  63, 700,  52,\n",
              "        581, 283, 649,  91, 837, 733, 743, 929, 542, 340, 595, 412, 679,\n",
              "        790, 337, 780, 244, 336, 565, 838, 861, 994]),\n",
              " array([711,  33, 208, 636, 583,   1, 431, 202, 560, 681,  34, 469, 859,\n",
              "        485, 652, 509, 102,  67, 913, 707, 925, 172, 540, 139, 836, 119,\n",
              "         17, 985, 912, 758, 662,  67, 160,  66, 419]),\n",
              " array([578, 129, 821, 143, 795, 778,  16, 149, 591, 993, 546, 771, 283,\n",
              "        249, 640, 684, 789, 873, 787, 650, 593, 237, 517,  36, 284, 118,\n",
              "        947, 224,  90,  58, 342, 954,  96, 344,  23]),\n",
              " array([893, 178,  57, 190, 981,  10, 780, 534,  27, 561, 341, 847, 736,\n",
              "         69, 344,  93, 238, 135,  82, 955, 494, 738, 320,  85, 325, 134,\n",
              "        301, 224, 255, 659, 976, 229, 658, 866, 873]),\n",
              " array([637, 156, 772, 248, 423, 601, 438, 645, 846, 129, 300, 104, 422,\n",
              "        247, 823, 937, 945, 306,  24, 878,   1, 224, 118, 151, 953, 381,\n",
              "        717, 898, 570, 258, 625, 227, 210, 833,  34]),\n",
              " array([775, 602, 316, 942, 894, 227, 535, 147, 302, 782, 712, 485, 781,\n",
              "        234, 692, 482, 997, 480, 649, 386, 634, 193, 174, 470, 848,  13,\n",
              "        397,  66, 131, 789, 253, 583, 161, 184, 984]),\n",
              " array([245, 438, 708, 504, 476, 924, 138, 146, 602, 736,  33, 388, 935,\n",
              "        595, 559, 584, 882, 595,  26, 531, 614, 524, 538,  64, 824, 706,\n",
              "        271, 776, 732, 412, 946, 626, 212, 167, 487]),\n",
              " array([200, 630, 208, 865, 880,  92, 999, 541, 457, 988, 965, 816,  77,\n",
              "        107, 308, 849, 736, 337, 440, 665, 844, 530, 415, 584, 867, 867,\n",
              "        411, 468, 536, 660,  66, 635, 264, 475, 330]),\n",
              " array([689, 423, 871, 525, 508,  92, 475, 613, 314,  97, 925, 142, 545,\n",
              "        180, 407,  52,  80, 849, 551, 940, 823, 813, 648, 169, 932, 145,\n",
              "        413, 812, 413, 885, 128, 725, 283, 492, 772]),\n",
              " array([179, 593, 266, 704, 825, 358, 287, 961, 106, 361, 645, 489, 941,\n",
              "        369, 726, 346, 906, 841,  94,  74, 203, 894, 852, 333, 717, 869,\n",
              "        993,  72, 853, 365,  91, 796, 362, 230, 943]),\n",
              " array([188, 900, 256, 408, 426, 577, 384, 816, 529, 277, 413, 616, 624,\n",
              "        831, 342, 746, 163, 157, 569, 164, 579, 824, 402, 556, 985, 791,\n",
              "        246, 531, 575, 609, 629, 739, 667, 125, 860]),\n",
              " array([105, 253, 525, 317, 397, 368, 577, 763, 517, 260, 126, 353, 253,\n",
              "        391, 253, 659, 939, 892, 158, 222, 581, 111,  34, 835, 108, 847,\n",
              "        443, 837, 589, 799, 461, 741, 890, 634, 174]),\n",
              " array([153, 392, 990, 730, 131, 472, 405, 784, 963, 268, 879, 775, 485,\n",
              "        868, 541, 171, 780, 527,  70, 864, 125, 429,  90, 867, 830, 244,\n",
              "        306, 566, 122, 682, 127, 751, 428,  22, 190]),\n",
              " array([131, 304, 439, 170, 125, 743, 820, 547, 931, 725, 540, 119, 774,\n",
              "         77, 228, 495, 899, 352, 370, 818, 911, 819, 265,  75, 297,  95,\n",
              "        361, 814, 312, 268, 352, 416, 489, 800, 408]),\n",
              " array([259, 772, 526, 392,  95, 980, 371, 585, 107, 304, 674, 935, 626,\n",
              "        854, 380, 608, 570, 186,  93, 493, 298, 501, 560,  95, 744, 152,\n",
              "        406, 270,   3, 190, 799, 148, 317, 289, 422]),\n",
              " array([ 55,  45, 485, 195,  54, 460,  23, 126, 466, 507, 931, 573,  10,\n",
              "        532, 576, 569, 114, 182, 928, 807, 513,  56, 304, 442, 836, 172,\n",
              "        978, 314, 544, 633, 562, 482, 348, 829, 592]),\n",
              " array([297, 125, 163, 991, 543, 478, 777, 289, 377, 176,  16, 146,  45,\n",
              "        863, 526, 691, 969, 112, 896, 637, 685,  87, 837, 292, 280, 717,\n",
              "        776, 589,  48, 906, 782, 246, 848, 159, 615]),\n",
              " array([377, 492, 668, 849, 776,  91, 562, 586,  53, 115, 208, 142, 778,\n",
              "        651, 973, 554, 895, 677, 144,  13, 344, 208, 757, 533, 993, 490,\n",
              "        438, 883, 535, 312, 208, 110, 783, 866, 407]),\n",
              " array([259, 285, 798, 997, 647, 277, 476, 711, 604, 521, 249, 905, 657,\n",
              "        185, 451, 917, 112, 444, 588, 672,  18, 906, 789, 155, 520, 103,\n",
              "        389, 103, 450, 198, 351, 585, 111, 923, 281]),\n",
              " array([664, 613, 985,  96,  69, 441, 563, 675, 703, 681, 503, 388, 565,\n",
              "        417, 294, 866, 634, 792, 839,  56, 556, 639, 529, 642, 717, 187,\n",
              "        571, 365, 792, 862, 181, 523, 521, 441, 567]),\n",
              " array([380, 825,  83, 711, 818, 551, 720, 223,  99, 794, 784, 917, 367,\n",
              "        469,  41,  38, 501, 295,  84,  49, 606, 145, 165, 151, 409, 410,\n",
              "        281, 369, 745, 904,  23, 818, 590, 751, 439]),\n",
              " array([458,  31, 237, 194, 400, 901, 445, 585, 177, 173, 961,  36, 688,\n",
              "        633, 722, 933, 726,  98, 208, 481, 150, 591, 639, 130, 700, 794,\n",
              "        764, 424, 287, 412, 726, 921, 413, 191, 395]),\n",
              " array([496, 623, 921, 265, 651, 956, 116, 848, 944, 184, 994, 555, 460,\n",
              "        311, 673, 115, 318, 818, 356, 366, 131, 942, 750, 579, 466, 304,\n",
              "        706,  16, 663,  11, 975, 566, 694, 878,  36]),\n",
              " array([713, 926, 590, 923, 592, 314, 851,  26, 150, 535, 749, 241, 394,\n",
              "        137, 133, 931, 330, 654, 432,  26, 699, 351, 857, 425, 569, 192,\n",
              "        378, 528, 715,  25, 165, 971, 896, 839, 921]),\n",
              " array([ 45, 587, 125, 284, 809, 902, 621, 123, 968, 413, 891, 108, 435,\n",
              "        765, 408, 926, 870, 689, 240, 289, 278, 210, 228, 989, 589, 432,\n",
              "        758, 889, 143,  12, 395, 738, 903, 126, 565]),\n",
              " array([390, 958, 481, 247, 709, 186, 817, 323, 243, 893, 369, 451, 241,\n",
              "        552, 315, 889, 738, 965, 606, 894, 486, 353, 136, 219, 888, 784,\n",
              "        840, 284, 333, 904, 427, 340, 963, 610, 604]),\n",
              " array([230, 219,  26, 316, 854,  48, 428, 137, 962, 977, 272, 465, 348,\n",
              "        548, 422,   1, 948, 907, 146, 337, 373, 231, 240, 705, 179, 252,\n",
              "        209, 428, 760, 756, 465, 473, 815, 757, 714]),\n",
              " array([887, 722, 715, 640, 149, 550, 655, 468, 429, 730, 265, 544,  92,\n",
              "        894, 169, 188, 487, 180, 914, 360, 620, 500, 477,  26, 850, 952,\n",
              "        352, 688,   2, 907, 434, 908, 448, 430, 244]),\n",
              " array([628, 844, 652, 118, 792, 653, 368,  87,  59, 782, 928, 666, 740,\n",
              "        773,   7, 944, 654, 837, 943, 844,  98, 134, 298, 182, 345, 877,\n",
              "        376, 718, 473, 667, 832, 887, 260,  72, 695])]"
            ]
          },
          "metadata": {
            "tags": []
          },
          "execution_count": 53
        }
      ]
    },
    {
      "cell_type": "code",
      "metadata": {
        "id": "HTnyOXPKRXXZ",
        "colab_type": "code",
        "colab": {}
      },
      "source": [
        "def average(list_array): \n",
        "    return sum(list_array) / len(list_array) \n"
      ],
      "execution_count": 0,
      "outputs": []
    },
    {
      "cell_type": "code",
      "metadata": {
        "id": "im5FA7RVTGu5",
        "colab_type": "code",
        "colab": {}
      },
      "source": [
        "\n",
        "\n",
        "list_avg=list()\n",
        "\n",
        "for i in range(0,30):\n",
        "  list_avg.append(stats.mean(list_array[i]))"
      ],
      "execution_count": 0,
      "outputs": []
    },
    {
      "cell_type": "code",
      "metadata": {
        "id": "LSC9ymS6VtWI",
        "colab_type": "code",
        "colab": {
          "base_uri": "https://localhost:8080/",
          "height": 521
        },
        "outputId": "1311c895-51f9-4dd4-b049-6bc60b42ca7b"
      },
      "source": [
        "list_avg"
      ],
      "execution_count": 57,
      "outputs": [
        {
          "output_type": "execute_result",
          "data": {
            "text/plain": [
              "[490,\n",
              " 498,\n",
              " 466,\n",
              " 568,\n",
              " 553,\n",
              " 472,\n",
              " 580,\n",
              " 495,\n",
              " 463,\n",
              " 535,\n",
              " 537,\n",
              " 552,\n",
              " 512,\n",
              " 457,\n",
              " 503,\n",
              " 537,\n",
              " 496,\n",
              " 436,\n",
              " 507,\n",
              " 578,\n",
              " 364,\n",
              " 429,\n",
              " 409,\n",
              " 475,\n",
              " 511,\n",
              " 444,\n",
              " 516,\n",
              " 543,\n",
              " 513,\n",
              " 413]"
            ]
          },
          "metadata": {
            "tags": []
          },
          "execution_count": 57
        }
      ]
    },
    {
      "cell_type": "code",
      "metadata": {
        "id": "kz8d3RiKVsNV",
        "colab_type": "code",
        "colab": {}
      },
      "source": [
        ""
      ],
      "execution_count": 0,
      "outputs": []
    },
    {
      "cell_type": "code",
      "metadata": {
        "id": "EwJ4kecDUkeS",
        "colab_type": "code",
        "colab": {
          "base_uri": "https://localhost:8080/",
          "height": 265
        },
        "outputId": "a76c793c-7909-4525-b406-5f247f8ff38e"
      },
      "source": [
        ">>> import matplotlib.pyplot as plt\n",
        "\n",
        "plt.hist(list_avg)\n",
        "\n",
        "plt.show()"
      ],
      "execution_count": 59,
      "outputs": [
        {
          "output_type": "display_data",
          "data": {
            "image/png": "[encoded data removed]",
            "text/plain": [
              "<Figure size 432x288 with 1 Axes>"
            ]
          },
          "metadata": {
            "tags": []
          }
        }
      ]
    },
    {
      "cell_type": "code",
      "metadata": {
        "id": "oi1CpgbnWwrC",
        "colab_type": "code",
        "colab": {}
      },
      "source": [
        "uniform_array=list()\n",
        "for i in range(0,100):\n",
        "  uniform_array.append(np.random.uniform(1,1000,100))"
      ],
      "execution_count": 0,
      "outputs": []
    },
    {
      "cell_type": "code",
      "metadata": {
        "id": "oa3-cL-yXU_W",
        "colab_type": "code",
        "colab": {}
      },
      "source": [
        "for i in range(0,100):\n",
        "  uniform_array.append(stats.mean(uniform_array[i]))"
      ],
      "execution_count": 0,
      "outputs": []
    },
    {
      "cell_type": "code",
      "metadata": {
        "id": "SLmR-T5xYJBj",
        "colab_type": "code",
        "colab": {
          "base_uri": "https://localhost:8080/",
          "height": 265
        },
        "outputId": "10ed04a4-2967-44f2-a967-1bb135e69281"
      },
      "source": [
        "plt.hist(uniform_array)\n",
        "\n",
        "plt.show()"
      ],
      "execution_count": 67,
      "outputs": [
        {
          "output_type": "display_data",
          "data": {
            "image/png": "[encoded data removed]",
            "text/plain": [
              "<Figure size 432x288 with 1 Axes>"
            ]
          },
          "metadata": {
            "tags": []
          }
        }
      ]
    },
    {
      "cell_type": "code",
      "metadata": {
        "id": "ak1OR1TWYTYl",
        "colab_type": "code",
        "colab": {}
      },
      "source": [
        "uniform_mean=list()\n",
        "for i in range(0,100):\n",
        "  uniform_mean.append(stats.mean(uniform_array[i]))"
      ],
      "execution_count": 0,
      "outputs": []
    },
    {
      "cell_type": "code",
      "metadata": {
        "id": "-jV4Xrk8Ytw3",
        "colab_type": "code",
        "colab": {
          "base_uri": "https://localhost:8080/",
          "height": 265
        },
        "outputId": "6d828120-3b08-4aaf-9eda-f2d9cd39e50d"
      },
      "source": [
        "plt.hist(uniform_mean)\n",
        "\n",
        "plt.show()"
      ],
      "execution_count": 72,
      "outputs": [
        {
          "output_type": "display_data",
          "data": {
            "image/png": "[encoded data removed]",
            "text/plain": [
              "<Figure size 432x288 with 1 Axes>"
            ]
          },
          "metadata": {
            "tags": []
          }
        }
      ]
    },
    {
      "cell_type": "code",
      "metadata": {
        "id": "SvmNMJ05YyYU",
        "colab_type": "code",
        "colab": {}
      },
      "source": [
        "normal_array=list()\n",
        "for i in range(0,1000):\n",
        "  normal_array.append(np.random.normal(0,1,1000))"
      ],
      "execution_count": 0,
      "outputs": []
    },
    {
      "cell_type": "code",
      "metadata": {
        "id": "eu6AThOfZmMa",
        "colab_type": "code",
        "colab": {}
      },
      "source": [
        "for i in range(0,1000):\n",
        "  normal_array.append(stats.mean(normal_array[i]))"
      ],
      "execution_count": 0,
      "outputs": []
    },
    {
      "cell_type": "code",
      "metadata": {
        "id": "HP5-Aij6Z79I",
        "colab_type": "code",
        "colab": {}
      },
      "source": [
        "normal_mean=list()\n",
        "for i in range(0,1000):\n",
        "  normal_mean.append(stats.mean(normal_array[i]))"
      ],
      "execution_count": 0,
      "outputs": []
    },
    {
      "cell_type": "code",
      "metadata": {
        "id": "v_mIB-3aaEAs",
        "colab_type": "code",
        "colab": {
          "base_uri": "https://localhost:8080/",
          "height": 266
        },
        "outputId": "68369d70-4d02-47f2-b1d7-66e3409454e0"
      },
      "source": [
        "plt.hist(normal_mean)\n",
        "\n",
        "plt.show()"
      ],
      "execution_count": 80,
      "outputs": [
        {
          "output_type": "display_data",
          "data": {
            "image/png": "[encoded data removed]",
            "text/plain": [
              "<Figure size 432x288 with 1 Axes>"
            ]
          },
          "metadata": {
            "tags": []
          }
        }
      ]
    },
    {
      "cell_type": "code",
      "metadata": {
        "id": "Hojke2_RaJNd",
        "colab_type": "code",
        "colab": {
          "base_uri": "https://localhost:8080/",
          "height": 84
        },
        "outputId": "c70ac47e-8276-440a-db05-5d26878ba3d1"
      },
      "source": [
        "age1=np.random.randint(30,35,30)\n",
        "print(age1)\n",
        "age2=np.random.randint(10,70,30)\n",
        "print(age2)"
      ],
      "execution_count": 99,
      "outputs": [
        {
          "output_type": "stream",
          "text": [
            "[34 32 34 31 34 34 33 31 33 32 30 30 33 32 33 32 34 30 30 30 32 30 31 33\n",
            " 33 34 31 34 34 32]\n",
            "[42 28 50 34 21 17 10 45 42 43 51 51 29 11 41 61 43 44 62 64 10 27 12 35\n",
            " 65 26 38 62 67 33]\n"
          ],
          "name": "stdout"
        }
      ]
    },
    {
      "cell_type": "code",
      "metadata": {
        "id": "5SkGxnd0gyq6",
        "colab_type": "code",
        "colab": {
          "base_uri": "https://localhost:8080/",
          "height": 34
        },
        "outputId": "9f4c57c4-e1c5-4f20-8e92-58a4d4959745"
      },
      "source": [
        "age1.mean()"
      ],
      "execution_count": 100,
      "outputs": [
        {
          "output_type": "execute_result",
          "data": {
            "text/plain": [
              "32.2"
            ]
          },
          "metadata": {
            "tags": []
          },
          "execution_count": 100
        }
      ]
    },
    {
      "cell_type": "code",
      "metadata": {
        "id": "MiglUzobiUwx",
        "colab_type": "code",
        "colab": {
          "base_uri": "https://localhost:8080/",
          "height": 34
        },
        "outputId": "0012b46a-2651-4394-8545-1a4f144e68c7"
      },
      "source": [
        "age2.mean()"
      ],
      "execution_count": 101,
      "outputs": [
        {
          "output_type": "execute_result",
          "data": {
            "text/plain": [
              "38.8"
            ]
          },
          "metadata": {
            "tags": []
          },
          "execution_count": 101
        }
      ]
    },
    {
      "cell_type": "code",
      "metadata": {
        "id": "XRG2WpbfiWfJ",
        "colab_type": "code",
        "colab": {}
      },
      "source": [
        "from scipy.stats import ttest_1samp"
      ],
      "execution_count": 0,
      "outputs": []
    },
    {
      "cell_type": "code",
      "metadata": {
        "id": "M_5JEF95irvZ",
        "colab_type": "code",
        "colab": {
          "base_uri": "https://localhost:8080/",
          "height": 34
        },
        "outputId": "362709b2-a3f1-49fa-84cf-a7a440602bff"
      },
      "source": [
        "ttest_1samp(age1,30)"
      ],
      "execution_count": 103,
      "outputs": [
        {
          "output_type": "execute_result",
          "data": {
            "text/plain": [
              "Ttest_1sampResult(statistic=8.06110919672235, pvalue=6.866359956518018e-09)"
            ]
          },
          "metadata": {
            "tags": []
          },
          "execution_count": 103
        }
      ]
    },
    {
      "cell_type": "code",
      "metadata": {
        "id": "gQcKEH0cjEUs",
        "colab_type": "code",
        "colab": {}
      },
      "source": [
        "a_pvalue=0.0000006801384894729555"
      ],
      "execution_count": 0,
      "outputs": []
    },
    {
      "cell_type": "code",
      "metadata": {
        "id": "rTT_n05dkpnZ",
        "colab_type": "code",
        "colab": {
          "base_uri": "https://localhost:8080/",
          "height": 34
        },
        "outputId": "91e6cb60-6f33-48c7-dfc5-d14e8c29c7d8"
      },
      "source": [
        "ttest_1samp(age2,30)"
      ],
      "execution_count": 109,
      "outputs": [
        {
          "output_type": "execute_result",
          "data": {
            "text/plain": [
              "Ttest_1sampResult(statistic=2.7724983296571706, pvalue=0.009618374727656497)"
            ]
          },
          "metadata": {
            "tags": []
          },
          "execution_count": 109
        }
      ]
    },
    {
      "cell_type": "code",
      "metadata": {
        "id": "3tew1TbwkzNl",
        "colab_type": "code",
        "colab": {
          "base_uri": "https://localhost:8080/",
          "height": 128
        },
        "outputId": "4f6239ee-04e9-4f4c-c26f-dce66e6972fb"
      },
      "source": [
        "from scipy.stats import ttest_1samp\n",
        "import numpy as np\n",
        "ages = np.array([100,32,303,12,56,45,404,396,392,191,67,89,22,54,33])\n",
        "print(ages)\n",
        "ages_mean = np.mean(ages)\n",
        "print(ages_mean)\n",
        "tset, pval = ttest_1samp(ages, 30)\n",
        "print(\"p-values”=\",pval)\n",
        "if pval < 0.05:    # alpha value is 0.05 or 5%\n",
        "   print(\" we are rejecting null hypothesis\")\n",
        "else:\n",
        "  print(\"we are failed to reject  null hypothesis\")"
      ],
      "execution_count": 122,
      "outputs": [
        {
          "output_type": "error",
          "ename": "SyntaxError",
          "evalue": "ignored",
          "traceback": [
            "\u001b[0;36m  File \u001b[0;32m\"<ipython-input-122-479cea436496>\"\u001b[0;36m, line \u001b[0;32m3\u001b[0m\n\u001b[0;31m    ages = np.array([100,32,303,12,56,45,404,396,392,191,67,89,22,54,33])\u001b[0m\n\u001b[0m            ^\u001b[0m\n\u001b[0;31mSyntaxError\u001b[0m\u001b[0;31m:\u001b[0m invalid character in identifier\n"
          ]
        }
      ]
    },
    {
      "cell_type": "code",
      "metadata": {
        "id": "uWGUsWD6oblu",
        "colab_type": "code",
        "colab": {
          "base_uri": "https://localhost:8080/",
          "height": 34
        },
        "outputId": "909938d7-1fef-4455-8290-743bddfcc952"
      },
      "source": [
        "from scipy.stats import kstest, norm\n",
        "data= norm.rvs(size=1000)\n",
        "ks_statistics,p_value= kstest(data, 'norm')\n",
        "print(ks_statistics, p_value)"
      ],
      "execution_count": 125,
      "outputs": [
        {
          "output_type": "stream",
          "text": [
            "0.0332471543528402 0.21441948630675534\n"
          ],
          "name": "stdout"
        }
      ]
    },
    {
      "cell_type": "code",
      "metadata": {
        "id": "gn21pHt3obi-",
        "colab_type": "code",
        "colab": {
          "base_uri": "https://localhost:8080/",
          "height": 34
        },
        "outputId": "ed4dedbf-0c2d-48ec-eec5-5b4b5cd3cfad"
      },
      "source": [
        "from scipy.stats import kstest, uniform\n",
        "data= uniform.rvs(size=1000)\n",
        "ks_statistics,p_value= kstest(data, 'uniform')\n",
        "print(ks_statistics, p_value)"
      ],
      "execution_count": 137,
      "outputs": [
        {
          "output_type": "stream",
          "text": [
            "0.04039162424877285 0.07448063278598956\n"
          ],
          "name": "stdout"
        }
      ]
    },
    {
      "cell_type": "code",
      "metadata": {
        "id": "upXgiDUWpjtp",
        "colab_type": "code",
        "colab": {}
      },
      "source": [
        "np.set_printoptions(precision=3)"
      ],
      "execution_count": 0,
      "outputs": []
    },
    {
      "cell_type": "markdown",
      "metadata": {
        "id": "XYrcavtSrQCg",
        "colab_type": "text"
      },
      "source": [
        ""
      ]
    },
    {
      "cell_type": "code",
      "metadata": {
        "id": "9wuq-h_ZrDso",
        "colab_type": "code",
        "colab": {}
      },
      "source": [
        ""
      ],
      "execution_count": 0,
      "outputs": []
    }
  ]
}