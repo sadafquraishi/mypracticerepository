{
  "nbformat": 4,
  "nbformat_minor": 0,
  "metadata": {
    "colab": {
      "name": "practice.ipynb",
      "provenance": [],
      "authorship_tag": "ABX9TyPnjd9q5QX5ops0ba2kU9Fu",
      "include_colab_link": true
    },
    "kernelspec": {
      "name": "python3",
      "display_name": "Python 3"
    }
  },
  "cells": [
    {
      "cell_type": "markdown",
      "metadata": {
        "id": "view-in-github",
        "colab_type": "text"
      },
      "source": [
        "<a href=\"https://colab.research.google.com/github/sadafquraishi/mypracticerepository/blob/master/practice.ipynb\" target=\"_parent\"><img src=\"https://colab.research.google.com/assets/colab-badge.svg\" alt=\"Open In Colab\"/></a>"
      ]
    },
    {
      "cell_type": "code",
      "metadata": {
        "id": "QnynUiJZqdpL",
        "colab_type": "code",
        "colab": {}
      },
      "source": [
        "age=20\n",
        "sentence = \"My name is Sadaf\""
      ],
      "execution_count": 0,
      "outputs": []
    },
    {
      "cell_type": "code",
      "metadata": {
        "id": "bnL0lk48qynJ",
        "colab_type": "code",
        "outputId": "b4bd097c-7bd3-4ce5-9606-a90f910d68f7",
        "colab": {
          "base_uri": "https://localhost:8080/",
          "height": 34
        }
      },
      "source": [
        "sentence"
      ],
      "execution_count": 0,
      "outputs": [
        {
          "output_type": "execute_result",
          "data": {
            "text/plain": [
              "'My name is Sadaf'"
            ]
          },
          "metadata": {
            "tags": []
          },
          "execution_count": 2
        }
      ]
    },
    {
      "cell_type": "code",
      "metadata": {
        "id": "Bx7rc4avq0X5",
        "colab_type": "code",
        "colab": {}
      },
      "source": [
        "sarah, bob, mike=16,21,17"
      ],
      "execution_count": 0,
      "outputs": []
    },
    {
      "cell_type": "code",
      "metadata": {
        "id": "DwRT7QDhrGWW",
        "colab_type": "code",
        "outputId": "c0765920-35a8-4c7e-b1b5-680770ca8eb1",
        "colab": {
          "base_uri": "https://localhost:8080/",
          "height": 34
        }
      },
      "source": [
        "sarah"
      ],
      "execution_count": 0,
      "outputs": [
        {
          "output_type": "execute_result",
          "data": {
            "text/plain": [
              "16"
            ]
          },
          "metadata": {
            "tags": []
          },
          "execution_count": 4
        }
      ]
    },
    {
      "cell_type": "code",
      "metadata": {
        "id": "xRWdJIfArH_G",
        "colab_type": "code",
        "colab": {}
      },
      "source": [
        "sarah=bob=mike=17"
      ],
      "execution_count": 0,
      "outputs": []
    },
    {
      "cell_type": "code",
      "metadata": {
        "id": "AbkYmBwwrN4q",
        "colab_type": "code",
        "outputId": "33f5a9d8-1f0b-460e-eb1b-0104a8c9f214",
        "colab": {
          "base_uri": "https://localhost:8080/",
          "height": 34
        }
      },
      "source": [
        "bob"
      ],
      "execution_count": 0,
      "outputs": [
        {
          "output_type": "execute_result",
          "data": {
            "text/plain": [
              "17"
            ]
          },
          "metadata": {
            "tags": []
          },
          "execution_count": 6
        }
      ]
    },
    {
      "cell_type": "code",
      "metadata": {
        "id": "4NBYmzc5rOjC",
        "colab_type": "code",
        "colab": {}
      },
      "source": [
        "age, name= 21,\"My name is Sadaf\""
      ],
      "execution_count": 0,
      "outputs": []
    },
    {
      "cell_type": "code",
      "metadata": {
        "id": "NiGZeENRrkCH",
        "colab_type": "code",
        "outputId": "f97644ae-c2e6-4e59-f8ac-801942484886",
        "colab": {
          "base_uri": "https://localhost:8080/",
          "height": 34
        }
      },
      "source": [
        "age"
      ],
      "execution_count": 0,
      "outputs": [
        {
          "output_type": "execute_result",
          "data": {
            "text/plain": [
              "21"
            ]
          },
          "metadata": {
            "tags": []
          },
          "execution_count": 8
        }
      ]
    },
    {
      "cell_type": "code",
      "metadata": {
        "id": "ySPoFf4Trly4",
        "colab_type": "code",
        "outputId": "34390420-8ff4-47f2-9626-ef3f536efff0",
        "colab": {
          "base_uri": "https://localhost:8080/",
          "height": 34
        }
      },
      "source": [
        "name"
      ],
      "execution_count": 0,
      "outputs": [
        {
          "output_type": "execute_result",
          "data": {
            "text/plain": [
              "'My name is Sadaf'"
            ]
          },
          "metadata": {
            "tags": []
          },
          "execution_count": 9
        }
      ]
    },
    {
      "cell_type": "code",
      "metadata": {
        "id": "W-jsc42Drmpu",
        "colab_type": "code",
        "colab": {}
      },
      "source": [
        "age1, age2= 12, 18"
      ],
      "execution_count": 0,
      "outputs": []
    },
    {
      "cell_type": "code",
      "metadata": {
        "id": "g_yVSHdzr7Y_",
        "colab_type": "code",
        "outputId": "723afe7d-9afd-42f3-b6a1-080e6897bb27",
        "colab": {
          "base_uri": "https://localhost:8080/",
          "height": 34
        }
      },
      "source": [
        "age1+age2"
      ],
      "execution_count": 0,
      "outputs": [
        {
          "output_type": "execute_result",
          "data": {
            "text/plain": [
              "30"
            ]
          },
          "metadata": {
            "tags": []
          },
          "execution_count": 11
        }
      ]
    },
    {
      "cell_type": "code",
      "metadata": {
        "id": "8kG3_elTsCdp",
        "colab_type": "code",
        "outputId": "47c672b5-d605-4008-bb16-de56f6a41c78",
        "colab": {
          "base_uri": "https://localhost:8080/",
          "height": 34
        }
      },
      "source": [
        "age1-age2"
      ],
      "execution_count": 0,
      "outputs": [
        {
          "output_type": "execute_result",
          "data": {
            "text/plain": [
              "-6"
            ]
          },
          "metadata": {
            "tags": []
          },
          "execution_count": 12
        }
      ]
    },
    {
      "cell_type": "code",
      "metadata": {
        "id": "C7Ie-D--sD_v",
        "colab_type": "code",
        "outputId": "549383d9-cf26-481e-ea12-c7795156a298",
        "colab": {
          "base_uri": "https://localhost:8080/",
          "height": 34
        }
      },
      "source": [
        "age1/age2"
      ],
      "execution_count": 0,
      "outputs": [
        {
          "output_type": "execute_result",
          "data": {
            "text/plain": [
              "0.6666666666666666"
            ]
          },
          "metadata": {
            "tags": []
          },
          "execution_count": 13
        }
      ]
    },
    {
      "cell_type": "code",
      "metadata": {
        "id": "eSX4N7HosFkn",
        "colab_type": "code",
        "outputId": "0acff4e8-bf5e-4d34-faa3-7e9905bec398",
        "colab": {
          "base_uri": "https://localhost:8080/",
          "height": 34
        }
      },
      "source": [
        "age1*age2"
      ],
      "execution_count": 0,
      "outputs": [
        {
          "output_type": "execute_result",
          "data": {
            "text/plain": [
              "216"
            ]
          },
          "metadata": {
            "tags": []
          },
          "execution_count": 14
        }
      ]
    },
    {
      "cell_type": "code",
      "metadata": {
        "id": "ZOxoefkjsHck",
        "colab_type": "code",
        "outputId": "77efb601-3875-4cc4-dfd6-1c0e239313d3",
        "colab": {
          "base_uri": "https://localhost:8080/",
          "height": 34
        }
      },
      "source": [
        "age1%age2"
      ],
      "execution_count": 0,
      "outputs": [
        {
          "output_type": "execute_result",
          "data": {
            "text/plain": [
              "12"
            ]
          },
          "metadata": {
            "tags": []
          },
          "execution_count": 17
        }
      ]
    },
    {
      "cell_type": "code",
      "metadata": {
        "id": "dbLGQl5usQrl",
        "colab_type": "code",
        "colab": {}
      },
      "source": [
        "sentence1=\"Today was a beautiful day\""
      ],
      "execution_count": 0,
      "outputs": []
    },
    {
      "cell_type": "code",
      "metadata": {
        "id": "8LCk4mFLsfBR",
        "colab_type": "code",
        "colab": {}
      },
      "source": [
        "firstname=\"Sadaf\""
      ],
      "execution_count": 0,
      "outputs": []
    },
    {
      "cell_type": "code",
      "metadata": {
        "id": "Z_2i3H6MspfY",
        "colab_type": "code",
        "colab": {}
      },
      "source": [
        "lastname=\"Quraishi\""
      ],
      "execution_count": 0,
      "outputs": []
    },
    {
      "cell_type": "code",
      "metadata": {
        "id": "cBuUxY3asrw3",
        "colab_type": "code",
        "outputId": "2086f599-4479-4c81-f4f9-482bd03f8458",
        "colab": {
          "base_uri": "https://localhost:8080/",
          "height": 34
        }
      },
      "source": [
        "firstname+ \" \"+lastname"
      ],
      "execution_count": 0,
      "outputs": [
        {
          "output_type": "execute_result",
          "data": {
            "text/plain": [
              "'Sadaf Quraishi'"
            ]
          },
          "metadata": {
            "tags": []
          },
          "execution_count": 22
        }
      ]
    },
    {
      "cell_type": "code",
      "metadata": {
        "id": "2-pu6cs-svC6",
        "colab_type": "code",
        "outputId": "5218d0ce-45e0-461d-b4e2-3aa6334ef803",
        "colab": {
          "base_uri": "https://localhost:8080/",
          "height": 34
        }
      },
      "source": [
        "firstname*2"
      ],
      "execution_count": 0,
      "outputs": [
        {
          "output_type": "execute_result",
          "data": {
            "text/plain": [
              "'SadafSadaf'"
            ]
          },
          "metadata": {
            "tags": []
          },
          "execution_count": 23
        }
      ]
    },
    {
      "cell_type": "code",
      "metadata": {
        "id": "bCs199eps4lU",
        "colab_type": "code",
        "colab": {}
      },
      "source": [
        "sent2=\"Sadaf was playing basketball\""
      ],
      "execution_count": 0,
      "outputs": []
    },
    {
      "cell_type": "code",
      "metadata": {
        "id": "S6JQCOPqtHHI",
        "colab_type": "code",
        "outputId": "1d962a3d-4b99-47c5-eaee-91d7cbd25077",
        "colab": {
          "base_uri": "https://localhost:8080/",
          "height": 34
        }
      },
      "source": [
        "sent2[0:5]"
      ],
      "execution_count": 0,
      "outputs": [
        {
          "output_type": "execute_result",
          "data": {
            "text/plain": [
              "'Sadaf'"
            ]
          },
          "metadata": {
            "tags": []
          },
          "execution_count": 30
        }
      ]
    },
    {
      "cell_type": "code",
      "metadata": {
        "id": "SC1Jq1YntebF",
        "colab_type": "code",
        "outputId": "748b09d7-6f5f-4c93-ed92-db49704fd803",
        "colab": {
          "base_uri": "https://localhost:8080/",
          "height": 34
        }
      },
      "source": [
        "sent2[0:12]"
      ],
      "execution_count": 0,
      "outputs": [
        {
          "output_type": "execute_result",
          "data": {
            "text/plain": [
              "'Sadaf was pl'"
            ]
          },
          "metadata": {
            "tags": []
          },
          "execution_count": 31
        }
      ]
    },
    {
      "cell_type": "code",
      "metadata": {
        "id": "75c2dTzFtwzE",
        "colab_type": "code",
        "colab": {}
      },
      "source": [
        "name= \"Jake\""
      ],
      "execution_count": 0,
      "outputs": []
    },
    {
      "cell_type": "code",
      "metadata": {
        "id": "sl5RKzfDuNLv",
        "colab_type": "code",
        "outputId": "c896aabf-f061-4fa8-8e85-0e0aeca8c913",
        "colab": {
          "base_uri": "https://localhost:8080/",
          "height": 34
        }
      },
      "source": [
        "name + \" is 15 years old\""
      ],
      "execution_count": 0,
      "outputs": [
        {
          "output_type": "execute_result",
          "data": {
            "text/plain": [
              "'Jake is 15 years old'"
            ]
          },
          "metadata": {
            "tags": []
          },
          "execution_count": 34
        }
      ]
    },
    {
      "cell_type": "code",
      "metadata": {
        "id": "TyHElnj4uU_y",
        "colab_type": "code",
        "colab": {}
      },
      "source": [
        "sent= \"%s is 15 years old\""
      ],
      "execution_count": 0,
      "outputs": []
    },
    {
      "cell_type": "code",
      "metadata": {
        "id": "laUKKj5KukFw",
        "colab_type": "code",
        "outputId": "800dea4c-ea18-4dc3-96b7-62b59449bfd5",
        "colab": {
          "base_uri": "https://localhost:8080/",
          "height": 34
        }
      },
      "source": [
        "sent%name"
      ],
      "execution_count": 0,
      "outputs": [
        {
          "output_type": "execute_result",
          "data": {
            "text/plain": [
              "'Jake is 15 years old'"
            ]
          },
          "metadata": {
            "tags": []
          },
          "execution_count": 38
        }
      ]
    },
    {
      "cell_type": "code",
      "metadata": {
        "id": "iEEtBXbcum7o",
        "colab_type": "code",
        "outputId": "c7678285-2fd1-4880-dde4-3e04b0a2c7c0",
        "colab": {
          "base_uri": "https://localhost:8080/",
          "height": 34
        }
      },
      "source": [
        "sent%\"Sadaf\""
      ],
      "execution_count": 0,
      "outputs": [
        {
          "output_type": "execute_result",
          "data": {
            "text/plain": [
              "'Sadaf is 15 years old'"
            ]
          },
          "metadata": {
            "tags": []
          },
          "execution_count": 37
        }
      ]
    },
    {
      "cell_type": "code",
      "metadata": {
        "id": "0Ig9pvYJuplS",
        "colab_type": "code",
        "outputId": "1138cd88-7a40-4b0f-c3c1-b09bd72b4ded",
        "colab": {
          "base_uri": "https://localhost:8080/",
          "height": 34
        }
      },
      "source": [
        "sent%(\"Sadaf\")"
      ],
      "execution_count": 0,
      "outputs": [
        {
          "output_type": "execute_result",
          "data": {
            "text/plain": [
              "'Sadaf is 15 years old'"
            ]
          },
          "metadata": {
            "tags": []
          },
          "execution_count": 39
        }
      ]
    },
    {
      "cell_type": "code",
      "metadata": {
        "id": "sloVwgKKuvz0",
        "colab_type": "code",
        "colab": {}
      },
      "source": [
        "sent= \"%s %s is the President of US\""
      ],
      "execution_count": 0,
      "outputs": []
    },
    {
      "cell_type": "code",
      "metadata": {
        "id": "A0cIuL6Vu3ze",
        "colab_type": "code",
        "outputId": "35f7a6f1-2f72-46ed-c691-fc7f03a2a1ea",
        "colab": {
          "base_uri": "https://localhost:8080/",
          "height": 34
        }
      },
      "source": [
        "sent%(\"Barak\", \"Obama\")"
      ],
      "execution_count": 0,
      "outputs": [
        {
          "output_type": "execute_result",
          "data": {
            "text/plain": [
              "'Barak Obama is the President of US'"
            ]
          },
          "metadata": {
            "tags": []
          },
          "execution_count": 43
        }
      ]
    },
    {
      "cell_type": "code",
      "metadata": {
        "id": "p-ZHGiKVu75D",
        "colab_type": "code",
        "colab": {}
      },
      "source": [
        "sent= \"%s is %d years old\""
      ],
      "execution_count": 0,
      "outputs": []
    },
    {
      "cell_type": "code",
      "metadata": {
        "id": "qTaHrjFIvQMC",
        "colab_type": "code",
        "outputId": "e6fe8c5d-69ab-428f-e216-5fe38934e76e",
        "colab": {
          "base_uri": "https://localhost:8080/",
          "height": 34
        }
      },
      "source": [
        "sent%(\"barak\", 50)"
      ],
      "execution_count": 0,
      "outputs": [
        {
          "output_type": "execute_result",
          "data": {
            "text/plain": [
              "'barak is 50 years old'"
            ]
          },
          "metadata": {
            "tags": []
          },
          "execution_count": 45
        }
      ]
    },
    {
      "cell_type": "code",
      "metadata": {
        "id": "HSgi5OaGvVJU",
        "colab_type": "code",
        "colab": {}
      },
      "source": [
        "sent2=sent%(\"Barak\", 50)"
      ],
      "execution_count": 0,
      "outputs": []
    },
    {
      "cell_type": "code",
      "metadata": {
        "id": "j6caJ4yMvmcC",
        "colab_type": "code",
        "outputId": "cdf2ccfc-ce8a-4e15-d82d-8ab2341ff9e4",
        "colab": {
          "base_uri": "https://localhost:8080/",
          "height": 34
        }
      },
      "source": [
        "sent2"
      ],
      "execution_count": 0,
      "outputs": [
        {
          "output_type": "execute_result",
          "data": {
            "text/plain": [
              "'Barak is 50 years old'"
            ]
          },
          "metadata": {
            "tags": []
          },
          "execution_count": 47
        }
      ]
    },
    {
      "cell_type": "code",
      "metadata": {
        "id": "ueDnMqbgvn5_",
        "colab_type": "code",
        "colab": {}
      },
      "source": [
        "shoplist=[\"apples\",\"oranges\",\"banana\",\"cheese\"]"
      ],
      "execution_count": 0,
      "outputs": []
    },
    {
      "cell_type": "code",
      "metadata": {
        "id": "KjIO5G1gw0C_",
        "colab_type": "code",
        "outputId": "88189a36-83fa-4980-b41a-d090a9b037b2",
        "colab": {
          "base_uri": "https://localhost:8080/",
          "height": 34
        }
      },
      "source": [
        "shoplist"
      ],
      "execution_count": 0,
      "outputs": [
        {
          "output_type": "execute_result",
          "data": {
            "text/plain": [
              "['apples', 'oranges', 'banana', 'cheese']"
            ]
          },
          "metadata": {
            "tags": []
          },
          "execution_count": 49
        }
      ]
    },
    {
      "cell_type": "code",
      "metadata": {
        "id": "V5uNzfVZw2YP",
        "colab_type": "code",
        "outputId": "bd75862f-2b83-4fdc-fb39-d86456e5f853",
        "colab": {
          "base_uri": "https://localhost:8080/",
          "height": 34
        }
      },
      "source": [
        "shoplist[0]"
      ],
      "execution_count": 0,
      "outputs": [
        {
          "output_type": "execute_result",
          "data": {
            "text/plain": [
              "'apples'"
            ]
          },
          "metadata": {
            "tags": []
          },
          "execution_count": 50
        }
      ]
    },
    {
      "cell_type": "code",
      "metadata": {
        "id": "3PHnBSWMw3zk",
        "colab_type": "code",
        "outputId": "4fa1c228-2871-41a3-b5cf-f0a3e7534da6",
        "colab": {
          "base_uri": "https://localhost:8080/",
          "height": 34
        }
      },
      "source": [
        "shoplist[3]"
      ],
      "execution_count": 0,
      "outputs": [
        {
          "output_type": "execute_result",
          "data": {
            "text/plain": [
              "'cheese'"
            ]
          },
          "metadata": {
            "tags": []
          },
          "execution_count": 53
        }
      ]
    },
    {
      "cell_type": "code",
      "metadata": {
        "id": "HGLI2LaUw6OW",
        "colab_type": "code",
        "outputId": "aea4b88a-7514-43c3-ea6c-cabd7470be8b",
        "colab": {
          "base_uri": "https://localhost:8080/",
          "height": 34
        }
      },
      "source": [
        "shoplist[0:2]"
      ],
      "execution_count": 0,
      "outputs": [
        {
          "output_type": "execute_result",
          "data": {
            "text/plain": [
              "['apples', 'oranges']"
            ]
          },
          "metadata": {
            "tags": []
          },
          "execution_count": 54
        }
      ]
    },
    {
      "cell_type": "code",
      "metadata": {
        "id": "UQDdgcEwxEf2",
        "colab_type": "code",
        "colab": {}
      },
      "source": [
        "shoplist.append(\"blueberries\")"
      ],
      "execution_count": 0,
      "outputs": []
    },
    {
      "cell_type": "code",
      "metadata": {
        "id": "izSdhCJkxROl",
        "colab_type": "code",
        "outputId": "a77aedd2-ddfc-456c-bbff-21a903dc2235",
        "colab": {
          "base_uri": "https://localhost:8080/",
          "height": 34
        }
      },
      "source": [
        "shoplist"
      ],
      "execution_count": 0,
      "outputs": [
        {
          "output_type": "execute_result",
          "data": {
            "text/plain": [
              "['apples', 'oranges', 'banana', 'cheese', 'blueberries']"
            ]
          },
          "metadata": {
            "tags": []
          },
          "execution_count": 57
        }
      ]
    },
    {
      "cell_type": "code",
      "metadata": {
        "id": "-PkFCBxGxZMv",
        "colab_type": "code",
        "colab": {}
      },
      "source": [
        "shoplist[0]=\"cherries\""
      ],
      "execution_count": 0,
      "outputs": []
    },
    {
      "cell_type": "code",
      "metadata": {
        "id": "a04cESS5xieJ",
        "colab_type": "code",
        "outputId": "fe1771ac-3a42-4c41-fe05-04f21c342774",
        "colab": {
          "base_uri": "https://localhost:8080/",
          "height": 34
        }
      },
      "source": [
        "shoplist"
      ],
      "execution_count": 0,
      "outputs": [
        {
          "output_type": "execute_result",
          "data": {
            "text/plain": [
              "['cherries', 'oranges', 'banana', 'cheese', 'blueberries']"
            ]
          },
          "metadata": {
            "tags": []
          },
          "execution_count": 59
        }
      ]
    },
    {
      "cell_type": "code",
      "metadata": {
        "id": "tcJEZWqAxj19",
        "colab_type": "code",
        "colab": {}
      },
      "source": [
        "del shoplist[1]"
      ],
      "execution_count": 0,
      "outputs": []
    },
    {
      "cell_type": "code",
      "metadata": {
        "id": "9WeOeGSexrmk",
        "colab_type": "code",
        "outputId": "25c0b452-bd11-48ce-8008-e967bc5c1eb0",
        "colab": {
          "base_uri": "https://localhost:8080/",
          "height": 34
        }
      },
      "source": [
        "shoplist"
      ],
      "execution_count": 0,
      "outputs": [
        {
          "output_type": "execute_result",
          "data": {
            "text/plain": [
              "['cherries', 'banana', 'cheese', 'blueberries']"
            ]
          },
          "metadata": {
            "tags": []
          },
          "execution_count": 63
        }
      ]
    },
    {
      "cell_type": "code",
      "metadata": {
        "id": "Yj4S49ndxshy",
        "colab_type": "code",
        "outputId": "05bdee3c-0cdb-4050-e604-8e256e217b97",
        "colab": {
          "base_uri": "https://localhost:8080/",
          "height": 34
        }
      },
      "source": [
        "len(shoplist)"
      ],
      "execution_count": 0,
      "outputs": [
        {
          "output_type": "execute_result",
          "data": {
            "text/plain": [
              "4"
            ]
          },
          "metadata": {
            "tags": []
          },
          "execution_count": 64
        }
      ]
    },
    {
      "cell_type": "code",
      "metadata": {
        "id": "u0Uhx2tgx2Fi",
        "colab_type": "code",
        "colab": {}
      },
      "source": [
        "shoplist2=[\"bread\",\"jam\",\"peanut butter\"]"
      ],
      "execution_count": 0,
      "outputs": []
    },
    {
      "cell_type": "code",
      "metadata": {
        "id": "zF3_EGvAyACr",
        "colab_type": "code",
        "outputId": "ad56b7b6-833c-4df8-ff9a-8d5c917e5bcf",
        "colab": {
          "base_uri": "https://localhost:8080/",
          "height": 140
        }
      },
      "source": [
        "shoplist + shoplist2"
      ],
      "execution_count": 0,
      "outputs": [
        {
          "output_type": "execute_result",
          "data": {
            "text/plain": [
              "['cherries',\n",
              " 'banana',\n",
              " 'cheese',\n",
              " 'blueberries',\n",
              " 'bread',\n",
              " 'jam',\n",
              " 'peanut butter']"
            ]
          },
          "metadata": {
            "tags": []
          },
          "execution_count": 69
        }
      ]
    },
    {
      "cell_type": "code",
      "metadata": {
        "id": "nfw6VSS9yD84",
        "colab_type": "code",
        "outputId": "424c395b-02d3-4671-b98b-b6554ff9af80",
        "colab": {
          "base_uri": "https://localhost:8080/",
          "height": 158
        }
      },
      "source": [
        "shoplist*2"
      ],
      "execution_count": 0,
      "outputs": [
        {
          "output_type": "execute_result",
          "data": {
            "text/plain": [
              "['cherries',\n",
              " 'banana',\n",
              " 'cheese',\n",
              " 'blueberries',\n",
              " 'cherries',\n",
              " 'banana',\n",
              " 'cheese',\n",
              " 'blueberries']"
            ]
          },
          "metadata": {
            "tags": []
          },
          "execution_count": 70
        }
      ]
    },
    {
      "cell_type": "code",
      "metadata": {
        "id": "wasMQtlAyUDD",
        "colab_type": "code",
        "colab": {}
      },
      "source": [
        "listnum=(1,2,3,5)"
      ],
      "execution_count": 0,
      "outputs": []
    },
    {
      "cell_type": "code",
      "metadata": {
        "id": "uTSsidkQyfM2",
        "colab_type": "code",
        "outputId": "dfbe0ba0-335d-4f4f-8c71-86e447225ec3",
        "colab": {
          "base_uri": "https://localhost:8080/",
          "height": 34
        }
      },
      "source": [
        "max(listnum)"
      ],
      "execution_count": 0,
      "outputs": [
        {
          "output_type": "execute_result",
          "data": {
            "text/plain": [
              "5"
            ]
          },
          "metadata": {
            "tags": []
          },
          "execution_count": 73
        }
      ]
    },
    {
      "cell_type": "code",
      "metadata": {
        "id": "sgstThXRyjui",
        "colab_type": "code",
        "outputId": "32b03417-700a-4146-f9a2-c770ff5da7b6",
        "colab": {
          "base_uri": "https://localhost:8080/",
          "height": 34
        }
      },
      "source": [
        "min(listnum)"
      ],
      "execution_count": 0,
      "outputs": [
        {
          "output_type": "execute_result",
          "data": {
            "text/plain": [
              "1"
            ]
          },
          "metadata": {
            "tags": []
          },
          "execution_count": 74
        }
      ]
    },
    {
      "cell_type": "code",
      "metadata": {
        "id": "VgU1DvYBylGZ",
        "colab_type": "code",
        "colab": {}
      },
      "source": [
        "students={\"bob\":12, \"rachel\":13, \"emily\":15}"
      ],
      "execution_count": 0,
      "outputs": []
    },
    {
      "cell_type": "code",
      "metadata": {
        "id": "uGtLBElPzUbk",
        "colab_type": "code",
        "outputId": "c9b30c77-b8a7-4e90-e049-a257e8379140",
        "colab": {
          "base_uri": "https://localhost:8080/",
          "height": 34
        }
      },
      "source": [
        "students"
      ],
      "execution_count": 0,
      "outputs": [
        {
          "output_type": "execute_result",
          "data": {
            "text/plain": [
              "{'bob': 12, 'emily': 15, 'rachel': 13}"
            ]
          },
          "metadata": {
            "tags": []
          },
          "execution_count": 76
        }
      ]
    },
    {
      "cell_type": "code",
      "metadata": {
        "id": "odD049eKzVpn",
        "colab_type": "code",
        "outputId": "52a65698-0351-4301-95db-eba4255ce178",
        "colab": {
          "base_uri": "https://localhost:8080/",
          "height": 34
        }
      },
      "source": [
        "students[\"rachel\"]"
      ],
      "execution_count": 0,
      "outputs": [
        {
          "output_type": "execute_result",
          "data": {
            "text/plain": [
              "13"
            ]
          },
          "metadata": {
            "tags": []
          },
          "execution_count": 78
        }
      ]
    },
    {
      "cell_type": "code",
      "metadata": {
        "id": "ZWVnG_zlzYwn",
        "colab_type": "code",
        "colab": {}
      },
      "source": [
        "students[\"rachel\"]=15"
      ],
      "execution_count": 0,
      "outputs": []
    },
    {
      "cell_type": "code",
      "metadata": {
        "id": "ImENHcX4zgdV",
        "colab_type": "code",
        "outputId": "579fb7ae-e4ca-4775-f240-f191ea26aa10",
        "colab": {
          "base_uri": "https://localhost:8080/",
          "height": 34
        }
      },
      "source": [
        "students"
      ],
      "execution_count": 0,
      "outputs": [
        {
          "output_type": "execute_result",
          "data": {
            "text/plain": [
              "{'bob': 12, 'emily': 15, 'rachel': 15}"
            ]
          },
          "metadata": {
            "tags": []
          },
          "execution_count": 80
        }
      ]
    },
    {
      "cell_type": "code",
      "metadata": {
        "id": "wWboiEwzzisA",
        "colab_type": "code",
        "colab": {}
      },
      "source": [
        "del students[\"emily\"]"
      ],
      "execution_count": 0,
      "outputs": []
    },
    {
      "cell_type": "code",
      "metadata": {
        "id": "kK_Vqv33zntU",
        "colab_type": "code",
        "outputId": "19d05ddf-cffe-4d42-c5a2-d9041ed49019",
        "colab": {
          "base_uri": "https://localhost:8080/",
          "height": 34
        }
      },
      "source": [
        "students"
      ],
      "execution_count": 0,
      "outputs": [
        {
          "output_type": "execute_result",
          "data": {
            "text/plain": [
              "{'bob': 12, 'rachel': 15}"
            ]
          },
          "metadata": {
            "tags": []
          },
          "execution_count": 82
        }
      ]
    },
    {
      "cell_type": "code",
      "metadata": {
        "id": "TfSs2xa0zosY",
        "colab_type": "code",
        "outputId": "4e65f1da-584b-4250-b096-1db9848cc6d3",
        "colab": {
          "base_uri": "https://localhost:8080/",
          "height": 34
        }
      },
      "source": [
        "len(students)"
      ],
      "execution_count": 0,
      "outputs": [
        {
          "output_type": "execute_result",
          "data": {
            "text/plain": [
              "2"
            ]
          },
          "metadata": {
            "tags": []
          },
          "execution_count": 83
        }
      ]
    },
    {
      "cell_type": "code",
      "metadata": {
        "id": "_D_ckZk9zrA4",
        "colab_type": "code",
        "colab": {}
      },
      "source": [
        "tup=('oranges', 'apples', 'bananas')"
      ],
      "execution_count": 0,
      "outputs": []
    },
    {
      "cell_type": "code",
      "metadata": {
        "id": "Cp_uizcI0Q7b",
        "colab_type": "code",
        "outputId": "80ac4e94-3566-4b5b-84e0-553fcef7aa3b",
        "colab": {
          "base_uri": "https://localhost:8080/",
          "height": 34
        }
      },
      "source": [
        "tup"
      ],
      "execution_count": 0,
      "outputs": [
        {
          "output_type": "execute_result",
          "data": {
            "text/plain": [
              "('oranges', 'apples', 'bananas')"
            ]
          },
          "metadata": {
            "tags": []
          },
          "execution_count": 88
        }
      ]
    },
    {
      "cell_type": "code",
      "metadata": {
        "id": "d9xTEA220RbF",
        "colab_type": "code",
        "outputId": "f4cc55bc-7b38-4e83-b15e-a3e680ffc8a4",
        "colab": {
          "base_uri": "https://localhost:8080/",
          "height": 34
        }
      },
      "source": [
        "tup[0]"
      ],
      "execution_count": 0,
      "outputs": [
        {
          "output_type": "execute_result",
          "data": {
            "text/plain": [
              "'oranges'"
            ]
          },
          "metadata": {
            "tags": []
          },
          "execution_count": 89
        }
      ]
    },
    {
      "cell_type": "code",
      "metadata": {
        "id": "Wx7DpGHr0WYw",
        "colab_type": "code",
        "outputId": "a476929a-1753-4059-b79c-504f2c311cf5",
        "colab": {
          "base_uri": "https://localhost:8080/",
          "height": 34
        }
      },
      "source": [
        "tup[0:3]"
      ],
      "execution_count": 0,
      "outputs": [
        {
          "output_type": "execute_result",
          "data": {
            "text/plain": [
              "('oranges', 'apples', 'bananas')"
            ]
          },
          "metadata": {
            "tags": []
          },
          "execution_count": 90
        }
      ]
    },
    {
      "cell_type": "code",
      "metadata": {
        "id": "X5H5nWei0hPh",
        "colab_type": "code",
        "colab": {}
      },
      "source": [
        "tup1=(12,14)"
      ],
      "execution_count": 0,
      "outputs": []
    },
    {
      "cell_type": "code",
      "metadata": {
        "id": "ofHjzEqm0kAf",
        "colab_type": "code",
        "colab": {}
      },
      "source": [
        "tup2=tup+tup1"
      ],
      "execution_count": 0,
      "outputs": []
    },
    {
      "cell_type": "code",
      "metadata": {
        "id": "RxdxvSVJ0rBg",
        "colab_type": "code",
        "outputId": "f3f2bc6d-b4d6-49b4-d81b-f4e58816d585",
        "colab": {
          "base_uri": "https://localhost:8080/",
          "height": 34
        }
      },
      "source": [
        "tup2"
      ],
      "execution_count": 0,
      "outputs": [
        {
          "output_type": "execute_result",
          "data": {
            "text/plain": [
              "('oranges', 'apples', 'bananas', 12, 14)"
            ]
          },
          "metadata": {
            "tags": []
          },
          "execution_count": 96
        }
      ]
    },
    {
      "cell_type": "code",
      "metadata": {
        "id": "j9rrTqTw0zfh",
        "colab_type": "code",
        "colab": {}
      },
      "source": [
        "del tup2"
      ],
      "execution_count": 0,
      "outputs": []
    },
    {
      "cell_type": "code",
      "metadata": {
        "id": "C-PUkGhn02TE",
        "colab_type": "code",
        "outputId": "afaedb86-4c9c-42d1-9142-f9f886d89997",
        "colab": {
          "base_uri": "https://localhost:8080/",
          "height": 34
        }
      },
      "source": [
        "len(tup)"
      ],
      "execution_count": 0,
      "outputs": [
        {
          "output_type": "execute_result",
          "data": {
            "text/plain": [
              "3"
            ]
          },
          "metadata": {
            "tags": []
          },
          "execution_count": 99
        }
      ]
    },
    {
      "cell_type": "code",
      "metadata": {
        "id": "10obwllt06rk",
        "colab_type": "code",
        "outputId": "f21a4807-9730-4b88-c8ac-f36cb211b8b9",
        "colab": {
          "base_uri": "https://localhost:8080/",
          "height": 34
        }
      },
      "source": [
        "tup*2"
      ],
      "execution_count": 0,
      "outputs": [
        {
          "output_type": "execute_result",
          "data": {
            "text/plain": [
              "('oranges', 'apples', 'bananas', 'oranges', 'apples', 'bananas')"
            ]
          },
          "metadata": {
            "tags": []
          },
          "execution_count": 100
        }
      ]
    },
    {
      "cell_type": "code",
      "metadata": {
        "id": "-xEZgego1AIR",
        "colab_type": "code",
        "outputId": "86df7eb0-affb-4f19-982b-fa77939c46df",
        "colab": {
          "base_uri": "https://localhost:8080/",
          "height": 34
        }
      },
      "source": [
        "if (5>3):\n",
        "  print(\"hello\")"
      ],
      "execution_count": 0,
      "outputs": [
        {
          "output_type": "stream",
          "text": [
            "hello\n"
          ],
          "name": "stdout"
        }
      ]
    },
    {
      "cell_type": "code",
      "metadata": {
        "id": "F4sURpFk1jx_",
        "colab_type": "code",
        "outputId": "ec593ab9-0484-4933-ab19-487f7fe71bee",
        "colab": {
          "base_uri": "https://localhost:8080/",
          "height": 34
        }
      },
      "source": [
        "if(3<2):\n",
        "  print(\"hello\")\n",
        "else:\n",
        " print(\"not true\")"
      ],
      "execution_count": 0,
      "outputs": [
        {
          "output_type": "stream",
          "text": [
            "not true\n"
          ],
          "name": "stdout"
        }
      ]
    },
    {
      "cell_type": "code",
      "metadata": {
        "id": "uPTGtvc-1y2P",
        "colab_type": "code",
        "outputId": "183d0041-f28a-4781-a6f0-99b797da467d",
        "colab": {
          "base_uri": "https://localhost:8080/",
          "height": 34
        }
      },
      "source": [
        "3>=2"
      ],
      "execution_count": 0,
      "outputs": [
        {
          "output_type": "execute_result",
          "data": {
            "text/plain": [
              "True"
            ]
          },
          "metadata": {
            "tags": []
          },
          "execution_count": 103
        }
      ]
    },
    {
      "cell_type": "code",
      "metadata": {
        "id": "gwXnHDnm1_pi",
        "colab_type": "code",
        "outputId": "4003c0f2-7386-4636-96aa-304d3b921de9",
        "colab": {
          "base_uri": "https://localhost:8080/",
          "height": 34
        }
      },
      "source": [
        "3 !=2"
      ],
      "execution_count": 0,
      "outputs": [
        {
          "output_type": "execute_result",
          "data": {
            "text/plain": [
              "True"
            ]
          },
          "metadata": {
            "tags": []
          },
          "execution_count": 104
        }
      ]
    },
    {
      "cell_type": "code",
      "metadata": {
        "id": "M02iluMe3Bw-",
        "colab_type": "code",
        "outputId": "498c57ea-a9b1-4cdc-c287-fb14a22e6a8b",
        "colab": {
          "base_uri": "https://localhost:8080/",
          "height": 34
        }
      },
      "source": [
        "if (age<13):\n",
        "  print(\"you are a teen\")\n",
        "elif (age >= 13 and age<18):\n",
        "  print(\"you are a teen\")\n",
        "else:\n",
        "  print(\"You are an adult\")"
      ],
      "execution_count": 0,
      "outputs": [
        {
          "output_type": "stream",
          "text": [
            "You are an adult\n"
          ],
          "name": "stdout"
        }
      ]
    },
    {
      "cell_type": "code",
      "metadata": {
        "id": "UEFbsIIn3ca6",
        "colab_type": "code",
        "colab": {}
      },
      "source": [
        "age=21"
      ],
      "execution_count": 0,
      "outputs": []
    },
    {
      "cell_type": "code",
      "metadata": {
        "id": "4GTMA_Ky3jXj",
        "colab_type": "code",
        "outputId": "3543e59c-e13c-47e2-ebc6-e9c33779b7bc",
        "colab": {
          "base_uri": "https://localhost:8080/",
          "height": 34
        }
      },
      "source": [
        "if (age<13):\n",
        "  print(\"you are a teen\")\n",
        "elif (age >= 13 and age<18):\n",
        "  print(\"you are a teen\")\n",
        "else:\n",
        "  print(\"You are an adult\")"
      ],
      "execution_count": 0,
      "outputs": [
        {
          "output_type": "stream",
          "text": [
            "You are an adult\n"
          ],
          "name": "stdout"
        }
      ]
    },
    {
      "cell_type": "code",
      "metadata": {
        "id": "-5n83A7b3l2d",
        "colab_type": "code",
        "outputId": "836329a7-88d3-4815-b6b1-33ffc69ff104",
        "colab": {
          "base_uri": "https://localhost:8080/",
          "height": 34
        }
      },
      "source": [
        "if (5>3 and 2<11):\n",
        "  print(\"hi\")"
      ],
      "execution_count": 0,
      "outputs": [
        {
          "output_type": "stream",
          "text": [
            "hi\n"
          ],
          "name": "stdout"
        }
      ]
    },
    {
      "cell_type": "code",
      "metadata": {
        "id": "VIDdAOp930aI",
        "colab_type": "code",
        "outputId": "989a270b-bde8-4a4b-bc5d-204b4bed4d8a",
        "colab": {
          "base_uri": "https://localhost:8080/",
          "height": 34
        }
      },
      "source": [
        "if (5>3 or 2<11):\n",
        "  print(\"uwu\")"
      ],
      "execution_count": 0,
      "outputs": [
        {
          "output_type": "stream",
          "text": [
            "uwu\n"
          ],
          "name": "stdout"
        }
      ]
    },
    {
      "cell_type": "code",
      "metadata": {
        "id": "FhpBPaaz357N",
        "colab_type": "code",
        "colab": {}
      },
      "source": [
        "list1=[\"apples\", \"bananas\",\"cherries\"]"
      ],
      "execution_count": 0,
      "outputs": []
    },
    {
      "cell_type": "code",
      "metadata": {
        "id": "t_xLL8i-4Owd",
        "colab_type": "code",
        "colab": {}
      },
      "source": [
        "tup1=(13,12,15)"
      ],
      "execution_count": 0,
      "outputs": []
    },
    {
      "cell_type": "code",
      "metadata": {
        "id": "M-FlTq294SeE",
        "colab_type": "code",
        "outputId": "47ea9f94-e700-4383-ea59-166580171653",
        "colab": {
          "base_uri": "https://localhost:8080/",
          "height": 70
        }
      },
      "source": [
        "for item in list1:\n",
        "  print(item)"
      ],
      "execution_count": 0,
      "outputs": [
        {
          "output_type": "stream",
          "text": [
            "apples\n",
            "bananas\n",
            "cherries\n"
          ],
          "name": "stdout"
        }
      ]
    },
    {
      "cell_type": "code",
      "metadata": {
        "id": "s3Q1lcet4Y-t",
        "colab_type": "code",
        "outputId": "6a817a0b-e1fc-48d1-f14c-507bd08f260d",
        "colab": {
          "base_uri": "https://localhost:8080/",
          "height": 70
        }
      },
      "source": [
        "for item in tup1:\n",
        "  print(item)"
      ],
      "execution_count": 0,
      "outputs": [
        {
          "output_type": "stream",
          "text": [
            "13\n",
            "12\n",
            "15\n"
          ],
          "name": "stdout"
        }
      ]
    },
    {
      "cell_type": "code",
      "metadata": {
        "id": "b4dCUUPF4jjz",
        "colab_type": "code",
        "outputId": "c5790882-25ff-497c-f38e-2011e1b80464",
        "colab": {
          "base_uri": "https://localhost:8080/",
          "height": 193
        }
      },
      "source": [
        "for i in range(0,10):\n",
        "  print(i)"
      ],
      "execution_count": 0,
      "outputs": [
        {
          "output_type": "stream",
          "text": [
            "0\n",
            "1\n",
            "2\n",
            "3\n",
            "4\n",
            "5\n",
            "6\n",
            "7\n",
            "8\n",
            "9\n"
          ],
          "name": "stdout"
        }
      ]
    },
    {
      "cell_type": "code",
      "metadata": {
        "id": "lwZvcqFL44S9",
        "colab_type": "code",
        "outputId": "0a48af46-0e5f-4be1-aeee-ccad84300474",
        "colab": {
          "base_uri": "https://localhost:8080/",
          "height": 193
        }
      },
      "source": [
        "for i in range(1,11):\n",
        "  print(i)"
      ],
      "execution_count": 0,
      "outputs": [
        {
          "output_type": "stream",
          "text": [
            "1\n",
            "2\n",
            "3\n",
            "4\n",
            "5\n",
            "6\n",
            "7\n",
            "8\n",
            "9\n",
            "10\n"
          ],
          "name": "stdout"
        }
      ]
    },
    {
      "cell_type": "code",
      "metadata": {
        "id": "InTcaoOn4_cV",
        "colab_type": "code",
        "outputId": "b6544b75-1a01-402a-a027-a7d03d65db45",
        "colab": {
          "base_uri": "https://localhost:8080/",
          "height": 122
        }
      },
      "source": [
        "for i in range(0,11,2):\n",
        "  print(i)"
      ],
      "execution_count": 0,
      "outputs": [
        {
          "output_type": "stream",
          "text": [
            "0\n",
            "2\n",
            "4\n",
            "6\n",
            "8\n",
            "10\n"
          ],
          "name": "stdout"
        }
      ]
    },
    {
      "cell_type": "code",
      "metadata": {
        "id": "SPqEjXxb5F97",
        "colab_type": "code",
        "outputId": "c3aecf75-0ffb-499d-e6d7-5fa0d25e6d49",
        "colab": {
          "base_uri": "https://localhost:8080/",
          "height": 105
        }
      },
      "source": [
        "for i in range(1,11,2):\n",
        "  print(i)"
      ],
      "execution_count": 0,
      "outputs": [
        {
          "output_type": "stream",
          "text": [
            "1\n",
            "3\n",
            "5\n",
            "7\n",
            "9\n"
          ],
          "name": "stdout"
        }
      ]
    },
    {
      "cell_type": "code",
      "metadata": {
        "id": "UFVWxZrg5KfM",
        "colab_type": "code",
        "outputId": "b429a1fc-5efe-4c20-c777-361322ef755f",
        "colab": {
          "base_uri": "https://localhost:8080/",
          "height": 281
        }
      },
      "source": [
        "for i in range(0,5):\n",
        "  for j in range(0,3):\n",
        "    print(i*j)"
      ],
      "execution_count": 0,
      "outputs": [
        {
          "output_type": "stream",
          "text": [
            "0\n",
            "0\n",
            "0\n",
            "0\n",
            "1\n",
            "2\n",
            "0\n",
            "2\n",
            "4\n",
            "0\n",
            "3\n",
            "6\n",
            "0\n",
            "4\n",
            "8\n"
          ],
          "name": "stdout"
        }
      ]
    },
    {
      "cell_type": "code",
      "metadata": {
        "id": "panLs4Zs5euZ",
        "colab_type": "code",
        "colab": {}
      },
      "source": [
        "c=0"
      ],
      "execution_count": 0,
      "outputs": []
    },
    {
      "cell_type": "code",
      "metadata": {
        "id": "EJPSOLxe7Y-3",
        "colab_type": "code",
        "outputId": "ed84cab8-c381-4e63-9ce2-d292e86a0db4",
        "colab": {
          "base_uri": "https://localhost:8080/",
          "height": 105
        }
      },
      "source": [
        "while c<5:\n",
        "  print(c)\n",
        "  c=c+1\n",
        "  "
      ],
      "execution_count": 0,
      "outputs": [
        {
          "output_type": "stream",
          "text": [
            "0\n",
            "1\n",
            "2\n",
            "3\n",
            "4\n"
          ],
          "name": "stdout"
        }
      ]
    },
    {
      "cell_type": "code",
      "metadata": {
        "id": "uS9-3y0S7fck",
        "colab_type": "code",
        "colab": {}
      },
      "source": [
        "c=0"
      ],
      "execution_count": 0,
      "outputs": []
    },
    {
      "cell_type": "code",
      "metadata": {
        "id": "J5mSSVmE7lqG",
        "colab_type": "code",
        "outputId": "687afb80-c4ce-4b2b-9a8b-493065347d85",
        "colab": {
          "base_uri": "https://localhost:8080/",
          "height": 87
        }
      },
      "source": [
        "while c<5:\n",
        "  print(c)\n",
        "  if c==3:\n",
        "    break\n",
        "  c=c+1"
      ],
      "execution_count": 0,
      "outputs": [
        {
          "output_type": "stream",
          "text": [
            "0\n",
            "1\n",
            "2\n",
            "3\n"
          ],
          "name": "stdout"
        }
      ]
    },
    {
      "cell_type": "code",
      "metadata": {
        "id": "3s4JYkjg7wMI",
        "colab_type": "code",
        "outputId": "a4bf60cc-7c98-42e1-dbe4-dacfb732e755",
        "colab": {
          "base_uri": "https://localhost:8080/",
          "height": 102
        }
      },
      "source": [
        "c=0\n",
        "while c<5:\n",
        "  print(c)\n",
        "  c=c+1"
      ],
      "execution_count": 0,
      "outputs": [
        {
          "output_type": "stream",
          "text": [
            "0\n",
            "1\n",
            "2\n",
            "3\n",
            "4\n"
          ],
          "name": "stdout"
        }
      ]
    },
    {
      "cell_type": "code",
      "metadata": {
        "id": "ccMgLw_8yU17",
        "colab_type": "code",
        "outputId": "68132092-5fb0-433d-9586-acaaeac9cfbe",
        "colab": {
          "base_uri": "https://localhost:8080/",
          "height": 85
        }
      },
      "source": [
        "c=0\n",
        "while c<5:\n",
        "  print(c)\n",
        "  if c==3:\n",
        "   break\n",
        "  c=c+1"
      ],
      "execution_count": 0,
      "outputs": [
        {
          "output_type": "stream",
          "text": [
            "0\n",
            "1\n",
            "2\n",
            "3\n"
          ],
          "name": "stdout"
        }
      ]
    },
    {
      "cell_type": "code",
      "metadata": {
        "id": "kopbQ8P6z8d4",
        "colab_type": "code",
        "outputId": "09a89414-714b-4153-9f97-2b88a144f8ed",
        "colab": {
          "base_uri": "https://localhost:8080/",
          "height": 34
        }
      },
      "source": [
        "try:\n",
        "  if name>3:\n",
        "    print(\"Hello\")\n",
        "except:\n",
        "  print(\"Wrong Code\")"
      ],
      "execution_count": 0,
      "outputs": [
        {
          "output_type": "stream",
          "text": [
            "Wrong Code\n"
          ],
          "name": "stdout"
        }
      ]
    },
    {
      "cell_type": "code",
      "metadata": {
        "id": "DYMhpsSOz8pp",
        "colab_type": "code",
        "outputId": "8368d5f1-d998-4e79-adb2-62fbbedd364b",
        "colab": {
          "base_uri": "https://localhost:8080/",
          "height": 34
        }
      },
      "source": [
        "try:\n",
        "  if name>100:\n",
        "    print(\"Hi\")\n",
        "except:\n",
        "  print(\"wrong code\")"
      ],
      "execution_count": 0,
      "outputs": [
        {
          "output_type": "stream",
          "text": [
            "wrong code\n"
          ],
          "name": "stdout"
        }
      ]
    },
    {
      "cell_type": "code",
      "metadata": {
        "id": "tQ8XUwCdz86n",
        "colab_type": "code",
        "colab": {}
      },
      "source": [
        "def Helloworld():\n",
        "  print(\"Hello World\")"
      ],
      "execution_count": 0,
      "outputs": []
    },
    {
      "cell_type": "code",
      "metadata": {
        "id": "JPlAu3nMz9B5",
        "colab_type": "code",
        "outputId": "392007f3-8aa6-48e2-cc2e-54e8a5591e8d",
        "colab": {
          "base_uri": "https://localhost:8080/",
          "height": 34
        }
      },
      "source": [
        "Helloworld()"
      ],
      "execution_count": 0,
      "outputs": [
        {
          "output_type": "stream",
          "text": [
            "Hello World\n"
          ],
          "name": "stdout"
        }
      ]
    },
    {
      "cell_type": "code",
      "metadata": {
        "id": "iJdFKAkiz8_c",
        "colab_type": "code",
        "colab": {}
      },
      "source": [
        "def greeting(name):\n",
        "  print(\"Hi\" +\" \"+ name+\"!\")"
      ],
      "execution_count": 0,
      "outputs": []
    },
    {
      "cell_type": "code",
      "metadata": {
        "id": "kB3QKvzJ3dqP",
        "colab_type": "code",
        "outputId": "d9a2a8ca-ea01-4f57-b826-a6ce2bce5ca2",
        "colab": {
          "base_uri": "https://localhost:8080/",
          "height": 34
        }
      },
      "source": [
        "greeting(\"Sadaf\")"
      ],
      "execution_count": 0,
      "outputs": [
        {
          "output_type": "stream",
          "text": [
            "Hi Sadaf!\n"
          ],
          "name": "stdout"
        }
      ]
    },
    {
      "cell_type": "code",
      "metadata": {
        "id": "r8u_kTVb3dlB",
        "colab_type": "code",
        "colab": {}
      },
      "source": [
        "def Add(num1,num2):\n",
        "  return(num1+num2)\n",
        "  print(\"Hello\")"
      ],
      "execution_count": 0,
      "outputs": []
    },
    {
      "cell_type": "code",
      "metadata": {
        "id": "gzONucJb3di8",
        "colab_type": "code",
        "colab": {}
      },
      "source": [
        "plus=Add(10,15)"
      ],
      "execution_count": 0,
      "outputs": []
    },
    {
      "cell_type": "code",
      "metadata": {
        "id": "MBUvH7O73deK",
        "colab_type": "code",
        "outputId": "f58b6569-846d-4258-c846-bf30de8b96b4",
        "colab": {
          "base_uri": "https://localhost:8080/",
          "height": 34
        }
      },
      "source": [
        "print(plus)"
      ],
      "execution_count": 0,
      "outputs": [
        {
          "output_type": "stream",
          "text": [
            "25\n"
          ],
          "name": "stdout"
        }
      ]
    },
    {
      "cell_type": "code",
      "metadata": {
        "id": "N5_TqbfqBQxL",
        "colab_type": "code",
        "outputId": "dedb11ae-075b-4496-d91e-cd63dfab0c27",
        "colab": {
          "base_uri": "https://localhost:8080/",
          "height": 34
        }
      },
      "source": [
        "number = 5\n",
        "count = 0\n",
        "while number > 1: \n",
        "    number = number / 2\n",
        "    count  += 1  \n",
        "\n",
        "print(count)"
      ],
      "execution_count": 0,
      "outputs": [
        {
          "output_type": "stream",
          "text": [
            "3\n"
          ],
          "name": "stdout"
        }
      ]
    },
    {
      "cell_type": "code",
      "metadata": {
        "id": "uQBchQhDBQta",
        "colab_type": "code",
        "outputId": "996033af-a2d6-4d08-c316-b010b2113205",
        "colab": {
          "base_uri": "https://localhost:8080/",
          "height": 34
        }
      },
      "source": [
        "multiples= []\n",
        "for i in range(0,100):\n",
        "    if i%3:\n",
        "        continue\n",
        "    else:\n",
        "        multiples.append(i)\n",
        "print(multiples)"
      ],
      "execution_count": 0,
      "outputs": [
        {
          "output_type": "stream",
          "text": [
            "[0, 3, 6, 9, 12, 15, 18, 21, 24, 27, 30, 33, 36, 39, 42, 45, 48, 51, 54, 57, 60, 63, 66, 69, 72, 75, 78, 81, 84, 87, 90, 93, 96, 99]\n"
          ],
          "name": "stdout"
        }
      ]
    },
    {
      "cell_type": "code",
      "metadata": {
        "id": "Xr6aAuSlAds6",
        "colab_type": "code",
        "outputId": "52cd2bcc-d1ab-4f22-eb01-63c010bca1af",
        "colab": {
          "base_uri": "https://localhost:8080/",
          "height": 34
        }
      },
      "source": [
        "rating=4\n",
        "\n",
        "if rating>4:\n",
        "    print('Great movie')\n",
        "elif rating>2:\n",
        "    print('Good movie')\n",
        "else: \n",
        "    print('Bad movie')"
      ],
      "execution_count": 0,
      "outputs": [
        {
          "output_type": "stream",
          "text": [
            "Good movie\n"
          ],
          "name": "stdout"
        }
      ]
    },
    {
      "cell_type": "code",
      "metadata": {
        "id": "5DJcAbHTCVhr",
        "colab_type": "code",
        "outputId": "8f8be09e-f8b7-4c7a-a604-6b47ebd961ac",
        "colab": {
          "base_uri": "https://localhost:8080/",
          "height": 84
        }
      },
      "source": [
        "for i in range(1,5):\n",
        "    print('Wow')"
      ],
      "execution_count": 0,
      "outputs": [
        {
          "output_type": "stream",
          "text": [
            "Wow\n",
            "Wow\n",
            "Wow\n",
            "Wow\n"
          ],
          "name": "stdout"
        }
      ]
    },
    {
      "cell_type": "code",
      "metadata": {
        "id": "TDhjL0PFC7X-",
        "colab_type": "code",
        "outputId": "38b52cf5-c006-4121-c189-d369f5848513",
        "colab": {
          "base_uri": "https://localhost:8080/",
          "height": 34
        }
      },
      "source": [
        "print(\"abra\",\"kadabra\" ,sep='**')\n"
      ],
      "execution_count": 0,
      "outputs": [
        {
          "output_type": "stream",
          "text": [
            "abra**kadabra\n"
          ],
          "name": "stdout"
        }
      ]
    },
    {
      "cell_type": "code",
      "metadata": {
        "id": "qYdkcSrkFKZn",
        "colab_type": "code",
        "outputId": "abea8347-5796-49cc-e6cf-4f193b2e077f",
        "colab": {
          "base_uri": "https://localhost:8080/",
          "height": 34
        }
      },
      "source": [
        "\n",
        "num1, num2 = 5, 0\n",
        "try:\n",
        "    quotient = (num1/num2)\n",
        "    message= \"Quotient is\" + ' ' + str(quotient)\n",
        "    print(message)\n",
        "    \n",
        "except:\n",
        "    message= \"ZeroDivisionError\"\n",
        "    print(message)"
      ],
      "execution_count": 0,
      "outputs": [
        {
          "output_type": "stream",
          "text": [
            "ZeroDivisionError\n"
          ],
          "name": "stdout"
        }
      ]
    },
    {
      "cell_type": "code",
      "metadata": {
        "id": "XV9QQ1h_LrNL",
        "colab_type": "code",
        "outputId": "ead87c99-78ae-4233-c057-70f7d88f5576",
        "colab": {
          "base_uri": "https://localhost:8080/",
          "height": 34
        }
      },
      "source": [
        "try:\n",
        "    a = 0 / 1\n",
        "    message = \"Quotient is\" + ' ' + str(a)\n",
        "    print(message)\n",
        "except ZeroDivisionError:\n",
        "    message = \"Cannot divide zero\"\n",
        "    print(message)"
      ],
      "execution_count": 0,
      "outputs": [
        {
          "output_type": "stream",
          "text": [
            "Quotient is 0.0\n"
          ],
          "name": "stdout"
        }
      ]
    },
    {
      "cell_type": "code",
      "metadata": {
        "id": "IEgYZumeQgzi",
        "colab_type": "code",
        "outputId": "d3f96b55-c2a0-4dfb-b9c2-8263249c4e7d",
        "colab": {
          "base_uri": "https://localhost:8080/",
          "height": 34
        }
      },
      "source": [
        "def func():\n",
        "\n",
        "    return(\"12\")\n",
        "\n",
        "def func():\n",
        "\n",
        "    return(\"13\")\n",
        "\n",
        "print(func()) "
      ],
      "execution_count": 0,
      "outputs": [
        {
          "output_type": "stream",
          "text": [
            "13\n"
          ],
          "name": "stdout"
        }
      ]
    },
    {
      "cell_type": "code",
      "metadata": {
        "id": "GzNEj6jM-uiR",
        "colab_type": "code",
        "outputId": "6033fb50-7036-4e71-ecac-d4e9b2c4d430",
        "colab": {
          "base_uri": "https://localhost:8080/",
          "height": 34
        }
      },
      "source": [
        "nums = [1,2,3,4,5]\n",
        "func = lambda x: (x*2)\n",
        "output = list(map(func, nums))\n",
        "print(output)"
      ],
      "execution_count": 0,
      "outputs": [
        {
          "output_type": "stream",
          "text": [
            "[2, 4, 6, 8, 10]\n"
          ],
          "name": "stdout"
        }
      ]
    },
    {
      "cell_type": "code",
      "metadata": {
        "id": "C7VljNZK-3mo",
        "colab_type": "code",
        "outputId": "eadde46a-2b14-41ef-de93-6047e9c62d0f",
        "colab": {
          "base_uri": "https://localhost:8080/",
          "height": 34
        }
      },
      "source": [
        "global a\n",
        "\n",
        "a=2\n",
        "\n",
        "def func():\n",
        "    a=1\n",
        "    b=2\n",
        "    return (a+b)\n",
        "\n",
        "print(func())"
      ],
      "execution_count": 0,
      "outputs": [
        {
          "output_type": "stream",
          "text": [
            "3\n"
          ],
          "name": "stdout"
        }
      ]
    },
    {
      "cell_type": "code",
      "metadata": {
        "id": "3rNHsbHS-7AS",
        "colab_type": "code",
        "colab": {
          "base_uri": "https://localhost:8080/",
          "height": 34
        },
        "outputId": "864c75fb-9f3c-4847-e52c-6c2bfcd21db3"
      },
      "source": [
        "import numpy as np\n",
        "\n",
        "# Code starts here\n",
        "def der(x,a=None):\n",
        "    res= (x**2)*(a*x)\n",
        "    return res\n",
        "\n",
        "sol=(der(1,2))\n",
        "print(sol)"
      ],
      "execution_count": 1,
      "outputs": [
        {
          "output_type": "stream",
          "text": [
            "2\n"
          ],
          "name": "stdout"
        }
      ]
    },
    {
      "cell_type": "code",
      "metadata": {
        "id": "RKynscQzseCZ",
        "colab_type": "code",
        "colab": {
          "base_uri": "https://localhost:8080/",
          "height": 34
        },
        "outputId": "aaba042d-89aa-4e1e-b441-2a47909295dd"
      },
      "source": [
        "\n",
        "# Function to find derivative\n",
        "def der1(x=None):\n",
        "    res = np.exp(x) + x*np.exp(x)\n",
        "    return res\n",
        "\n",
        "# Calling the function for x=1\n",
        "print(der1(1))"
      ],
      "execution_count": 2,
      "outputs": [
        {
          "output_type": "stream",
          "text": [
            "5.43656365691809\n"
          ],
          "name": "stdout"
        }
      ]
    },
    {
      "cell_type": "code",
      "metadata": {
        "id": "VtJhUzDTsoGF",
        "colab_type": "code",
        "colab": {
          "base_uri": "https://localhost:8080/",
          "height": 34
        },
        "outputId": "d8cc1041-2d2b-4eef-d09e-e25c3a8a8c69"
      },
      "source": [
        "# Code starts here\n",
        "def der(x,a=None):\n",
        "    res= (x**2)*(a**x)\n",
        "    return res\n",
        "\n",
        "sol=(der(1,2))\n",
        "print(sol)\n",
        "\n",
        "# Code ends here"
      ],
      "execution_count": 3,
      "outputs": [
        {
          "output_type": "stream",
          "text": [
            "2\n"
          ],
          "name": "stdout"
        }
      ]
    },
    {
      "cell_type": "code",
      "metadata": {
        "id": "-Xeqqvw_tbjt",
        "colab_type": "code",
        "colab": {
          "base_uri": "https://localhost:8080/",
          "height": 50
        },
        "outputId": "26a3a6ae-b717-49f7-b5c5-e278524a474d"
      },
      "source": [
        "import numpy as np\n",
        "# Code starts here\n",
        "\n",
        "# initialize NumPy array\n",
        "array=np.arange(1,11)\n",
        "\n",
        "# check dimensions\n",
        "dim= print('The dimensions of array is ', array.ndim)\n",
        "\n",
        "# reshaped array\n",
        "reshaped=np.arange(1,11).reshape((5,2))\n",
        "\n",
        "# check shape\n",
        "new_dim=print('The dimensions of array a is ', reshaped.ndim)\n",
        "# Code ends here"
      ],
      "execution_count": 4,
      "outputs": [
        {
          "output_type": "stream",
          "text": [
            "The dimensions of array is  1\n",
            "The dimensions of array a is  2\n"
          ],
          "name": "stdout"
        }
      ]
    },
    {
      "cell_type": "code",
      "metadata": {
        "id": "xysz7xOM5itr",
        "colab_type": "code",
        "colab": {
          "base_uri": "https://localhost:8080/",
          "height": 50
        },
        "outputId": "e4e03a47-153b-46e0-dc33-30f6ac3124d8"
      },
      "source": [
        "# NumPy array from 1 to 19\n",
        "print(np.arange(1,20,dtype='int32'))\n",
        "\n",
        "# NumPy array from 1 to 19 with step size 2\n",
        "print(np.arange(1,20,2,dtype='int8'))"
      ],
      "execution_count": 5,
      "outputs": [
        {
          "output_type": "stream",
          "text": [
            "[ 1  2  3  4  5  6  7  8  9 10 11 12 13 14 15 16 17 18 19]\n",
            "[ 1  3  5  7  9 11 13 15 17 19]\n"
          ],
          "name": "stdout"
        }
      ]
    },
    {
      "cell_type": "code",
      "metadata": {
        "id": "EMvI2ujQBUXq",
        "colab_type": "code",
        "colab": {
          "base_uri": "https://localhost:8080/",
          "height": 34
        },
        "outputId": "fac37ab4-407c-4634-8193-bb3fb7cafce8"
      },
      "source": [
        "print( np.arange(5))"
      ],
      "execution_count": 6,
      "outputs": [
        {
          "output_type": "stream",
          "text": [
            "[0 1 2 3 4]\n"
          ],
          "name": "stdout"
        }
      ]
    },
    {
      "cell_type": "code",
      "metadata": {
        "id": "K-qo-P0ZE0jQ",
        "colab_type": "code",
        "colab": {
          "base_uri": "https://localhost:8080/",
          "height": 101
        },
        "outputId": "5286918d-67e8-4f2c-c90d-05ee6e523e9a"
      },
      "source": [
        "import numpy as np\n",
        "print(np.eye(5))"
      ],
      "execution_count": 7,
      "outputs": [
        {
          "output_type": "stream",
          "text": [
            "[[1. 0. 0. 0. 0.]\n",
            " [0. 1. 0. 0. 0.]\n",
            " [0. 0. 1. 0. 0.]\n",
            " [0. 0. 0. 1. 0.]\n",
            " [0. 0. 0. 0. 1.]]\n"
          ],
          "name": "stdout"
        }
      ]
    },
    {
      "cell_type": "code",
      "metadata": {
        "id": "0hTaXd5WFGL7",
        "colab_type": "code",
        "colab": {
          "base_uri": "https://localhost:8080/",
          "height": 34
        },
        "outputId": "d7346ef9-2b23-4abc-cfde-75e82aaf53bf"
      },
      "source": [
        "import numpy as np\n",
        "a = np.arange(9).reshape(3,3)\n",
        "print(a[1,1])"
      ],
      "execution_count": 8,
      "outputs": [
        {
          "output_type": "stream",
          "text": [
            "4\n"
          ],
          "name": "stdout"
        }
      ]
    },
    {
      "cell_type": "code",
      "metadata": {
        "id": "jPoAuXPDFs5H",
        "colab_type": "code",
        "colab": {
          "base_uri": "https://localhost:8080/",
          "height": 84
        },
        "outputId": "4cad8dcc-9f77-4e3d-a059-25fe7ec2b1aa"
      },
      "source": [
        "a = np.array([[4,7,1],[2,5,7],[7,1,1]])\n",
        "\n",
        "# Boolean condition for values greater than 3\n",
        "mask = a > 3\n",
        "print(mask)\n",
        "\n",
        "# Masking for the above boolean condition in the array\n",
        "print(a[mask])"
      ],
      "execution_count": 9,
      "outputs": [
        {
          "output_type": "stream",
          "text": [
            "[[ True  True False]\n",
            " [False  True  True]\n",
            " [ True False False]]\n",
            "[4 7 5 7 7]\n"
          ],
          "name": "stdout"
        }
      ]
    },
    {
      "cell_type": "code",
      "metadata": {
        "id": "yBQ9rN-GLktJ",
        "colab_type": "code",
        "colab": {
          "base_uri": "https://localhost:8080/",
          "height": 34
        },
        "outputId": "0b16913c-b41f-4786-dd32-87886f309f30"
      },
      "source": [
        "import numpy as np\n",
        "a = np.array([1,2,3,4,5,6,7])\n",
        "print(a[a > 2])"
      ],
      "execution_count": 10,
      "outputs": [
        {
          "output_type": "stream",
          "text": [
            "[3 4 5 6 7]\n"
          ],
          "name": "stdout"
        }
      ]
    },
    {
      "cell_type": "code",
      "metadata": {
        "id": "hrAIx6kSP9Zz",
        "colab_type": "code",
        "colab": {
          "base_uri": "https://localhost:8080/",
          "height": 134
        },
        "outputId": "1cafc2af-69a9-4c92-d561-e572ce663ee0"
      },
      "source": [
        "a = np.array([[1,2,3],[4,5,6],[7,8,9]])\n",
        "b=np.array([[10,11,12],[13,14,15],[16,17,18]])\n",
        "\n",
        "# element wise addition\n",
        "print(a+b)\n",
        "print('==========')\n",
        "print(np.add(a,b))"
      ],
      "execution_count": 11,
      "outputs": [
        {
          "output_type": "stream",
          "text": [
            "[[11 13 15]\n",
            " [17 19 21]\n",
            " [23 25 27]]\n",
            "==========\n",
            "[[11 13 15]\n",
            " [17 19 21]\n",
            " [23 25 27]]\n"
          ],
          "name": "stdout"
        }
      ]
    },
    {
      "cell_type": "code",
      "metadata": {
        "id": "EEzvRXOgQWb0",
        "colab_type": "code",
        "colab": {
          "base_uri": "https://localhost:8080/",
          "height": 50
        },
        "outputId": "bd184119-7ca7-4cac-c7e1-2c7c064a2397"
      },
      "source": [
        "a = np.array([[1,4,9],[16,25,36]])\n",
        "print(np.log(a))"
      ],
      "execution_count": 12,
      "outputs": [
        {
          "output_type": "stream",
          "text": [
            "[[0.         1.38629436 2.19722458]\n",
            " [2.77258872 3.21887582 3.58351894]]\n"
          ],
          "name": "stdout"
        }
      ]
    },
    {
      "cell_type": "code",
      "metadata": {
        "id": "kEkNy7P8SOZl",
        "colab_type": "code",
        "colab": {}
      },
      "source": [
        ""
      ],
      "execution_count": 0,
      "outputs": []
    }
  ]
}