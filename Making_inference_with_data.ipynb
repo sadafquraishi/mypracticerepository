{
  "nbformat": 4,
  "nbformat_minor": 0,
  "metadata": {
    "colab": {
      "name": "Making inference with data.ipynb",
      "provenance": [],
      "authorship_tag": "ABX9TyMGj3WPHdDEws6CSJhcA+nY",
      "include_colab_link": true
    },
    "kernelspec": {
      "name": "python3",
      "display_name": "Python 3"
    }
  },
  "cells": [
    {
      "cell_type": "markdown",
      "metadata": {
        "id": "view-in-github",
        "colab_type": "text"
      },
      "source": [
        "<a href=\"https://colab.research.google.com/github/sadafquraishi/mypracticerepository/blob/master/Making_inference_with_data.ipynb\" target=\"_parent\"><img src=\"https://colab.research.google.com/assets/colab-badge.svg\" alt=\"Open In Colab\"/></a>"
      ]
    },
    {
      "cell_type": "code",
      "metadata": {
        "id": "K-2uoccITzxb",
        "colab_type": "code",
        "colab": {}
      },
      "source": [
        "import numpy as np\n",
        "import pandas as pd\n",
        "import matplotlib.pyplot as plot\n",
        "from sklearn.model_selection import train_test_split\n",
        "from sklearn.linear_model import LinearRegression"
      ],
      "execution_count": 0,
      "outputs": []
    },
    {
      "cell_type": "code",
      "metadata": {
        "id": "LtDeIo7KVVmz",
        "colab_type": "code",
        "colab": {}
      },
      "source": [
        "dataset=pd.read_csv(\"Salary_Data.csv\")"
      ],
      "execution_count": 0,
      "outputs": []
    },
    {
      "cell_type": "code",
      "metadata": {
        "id": "zjgudVxUVp7i",
        "colab_type": "code",
        "colab": {}
      },
      "source": [
        "x= dataset.iloc[:, :-1].values\n",
        "y= dataset.iloc[:, 1].values"
      ],
      "execution_count": 0,
      "outputs": []
    },
    {
      "cell_type": "code",
      "metadata": {
        "id": "x3CVbUN5XT6r",
        "colab_type": "code",
        "colab": {
          "base_uri": "https://localhost:8080/",
          "height": 195
        },
        "outputId": "a40d7008-4a68-4d6f-af1a-e827b7c5a2ac"
      },
      "source": [
        "dataset.head()"
      ],
      "execution_count": 90,
      "outputs": [
        {
          "output_type": "execute_result",
          "data": {
            "text/html": [
              "<div>\n",
              "<style scoped>\n",
              "    .dataframe tbody tr th:only-of-type {\n",
              "        vertical-align: middle;\n",
              "    }\n",
              "\n",
              "    .dataframe tbody tr th {\n",
              "        vertical-align: top;\n",
              "    }\n",
              "\n",
              "    .dataframe thead th {\n",
              "        text-align: right;\n",
              "    }\n",
              "</style>\n",
              "<table border=\"1\" class=\"dataframe\">\n",
              "  <thead>\n",
              "    <tr style=\"text-align: right;\">\n",
              "      <th></th>\n",
              "      <th>YearsExperience</th>\n",
              "      <th>Salary</th>\n",
              "    </tr>\n",
              "  </thead>\n",
              "  <tbody>\n",
              "    <tr>\n",
              "      <th>0</th>\n",
              "      <td>1.1</td>\n",
              "      <td>39343.0</td>\n",
              "    </tr>\n",
              "    <tr>\n",
              "      <th>1</th>\n",
              "      <td>1.3</td>\n",
              "      <td>46205.0</td>\n",
              "    </tr>\n",
              "    <tr>\n",
              "      <th>2</th>\n",
              "      <td>1.5</td>\n",
              "      <td>37731.0</td>\n",
              "    </tr>\n",
              "    <tr>\n",
              "      <th>3</th>\n",
              "      <td>2.0</td>\n",
              "      <td>43525.0</td>\n",
              "    </tr>\n",
              "    <tr>\n",
              "      <th>4</th>\n",
              "      <td>2.2</td>\n",
              "      <td>39891.0</td>\n",
              "    </tr>\n",
              "  </tbody>\n",
              "</table>\n",
              "</div>"
            ],
            "text/plain": [
              "   YearsExperience   Salary\n",
              "0              1.1  39343.0\n",
              "1              1.3  46205.0\n",
              "2              1.5  37731.0\n",
              "3              2.0  43525.0\n",
              "4              2.2  39891.0"
            ]
          },
          "metadata": {
            "tags": []
          },
          "execution_count": 90
        }
      ]
    },
    {
      "cell_type": "code",
      "metadata": {
        "id": "GJL3HQqSXXt2",
        "colab_type": "code",
        "colab": {
          "base_uri": "https://localhost:8080/",
          "height": 282
        },
        "outputId": "b7a7c6ff-9253-4936-ef4b-0b072110eef4"
      },
      "source": [
        "plt.scatter(x,y)"
      ],
      "execution_count": 91,
      "outputs": [
        {
          "output_type": "execute_result",
          "data": {
            "text/plain": [
              "<matplotlib.collections.PathCollection at 0x7f13b9dadf98>"
            ]
          },
          "metadata": {
            "tags": []
          },
          "execution_count": 91
        },
        {
          "output_type": "display_data",
          "data": {
            "image/png": "[encoded data removed]",
            "text/plain": [
              "<Figure size 432x288 with 1 Axes>"
            ]
          },
          "metadata": {
            "tags": []
          }
        }
      ]
    },
    {
      "cell_type": "code",
      "metadata": {
        "id": "2OjwsV2qXjfs",
        "colab_type": "code",
        "colab": {
          "base_uri": "https://localhost:8080/",
          "height": 605
        },
        "outputId": "a33aeff5-2a07-4ceb-88cb-365578052d17"
      },
      "source": [
        "x,y"
      ],
      "execution_count": 92,
      "outputs": [
        {
          "output_type": "execute_result",
          "data": {
            "text/plain": [
              "(array([[ 1.1],\n",
              "        [ 1.3],\n",
              "        [ 1.5],\n",
              "        [ 2. ],\n",
              "        [ 2.2],\n",
              "        [ 2.9],\n",
              "        [ 3. ],\n",
              "        [ 3.2],\n",
              "        [ 3.2],\n",
              "        [ 3.7],\n",
              "        [ 3.9],\n",
              "        [ 4. ],\n",
              "        [ 4. ],\n",
              "        [ 4.1],\n",
              "        [ 4.5],\n",
              "        [ 4.9],\n",
              "        [ 5.1],\n",
              "        [ 5.3],\n",
              "        [ 5.9],\n",
              "        [ 6. ],\n",
              "        [ 6.8],\n",
              "        [ 7.1],\n",
              "        [ 7.9],\n",
              "        [ 8.2],\n",
              "        [ 8.7],\n",
              "        [ 9. ],\n",
              "        [ 9.5],\n",
              "        [ 9.6],\n",
              "        [10.3],\n",
              "        [10.5]]),\n",
              " array([ 39343.,  46205.,  37731.,  43525.,  39891.,  56642.,  60150.,\n",
              "         54445.,  64445.,  57189.,  63218.,  55794.,  56957.,  57081.,\n",
              "         61111.,  67938.,  66029.,  83088.,  81363.,  93940.,  91738.,\n",
              "         98273., 101302., 113812., 109431., 105582., 116969., 112635.,\n",
              "        122391., 121872.]))"
            ]
          },
          "metadata": {
            "tags": []
          },
          "execution_count": 92
        }
      ]
    },
    {
      "cell_type": "code",
      "metadata": {
        "id": "RwNGW8E9YL05",
        "colab_type": "code",
        "colab": {}
      },
      "source": [
        "xTrain, xTest, yTrain, yTest=train_test_split(x,y, test_size= .30, random_state=42)"
      ],
      "execution_count": 0,
      "outputs": []
    },
    {
      "cell_type": "code",
      "metadata": {
        "id": "cz7yklQNYaEZ",
        "colab_type": "code",
        "colab": {
          "base_uri": "https://localhost:8080/",
          "height": 34
        },
        "outputId": "8b8abeb1-cf49-4bd0-ba2d-f461e3b7c484"
      },
      "source": [
        "len(x)/len(xTrain)"
      ],
      "execution_count": 43,
      "outputs": [
        {
          "output_type": "execute_result",
          "data": {
            "text/plain": [
              "1.4285714285714286"
            ]
          },
          "metadata": {
            "tags": []
          },
          "execution_count": 43
        }
      ]
    },
    {
      "cell_type": "code",
      "metadata": {
        "id": "QBkz5WM8YaNG",
        "colab_type": "code",
        "colab": {
          "base_uri": "https://localhost:8080/",
          "height": 34
        },
        "outputId": "f8944b33-b4ff-4853-d2f6-f4c4329d8947"
      },
      "source": [
        "len(x), len(xTrain), len(xTest)"
      ],
      "execution_count": 30,
      "outputs": [
        {
          "output_type": "execute_result",
          "data": {
            "text/plain": [
              "(30, 21, 9)"
            ]
          },
          "metadata": {
            "tags": []
          },
          "execution_count": 30
        }
      ]
    },
    {
      "cell_type": "code",
      "metadata": {
        "id": "meneuqcnYLsJ",
        "colab_type": "code",
        "colab": {}
      },
      "source": [
        "LinearRegressor=LinearRegression()\n"
      ],
      "execution_count": 0,
      "outputs": []
    },
    {
      "cell_type": "code",
      "metadata": {
        "id": "ClBzRgL6YLpN",
        "colab_type": "code",
        "colab": {
          "base_uri": "https://localhost:8080/",
          "height": 34
        },
        "outputId": "03384a4f-b71c-41bd-f04c-abe6c0d82b35"
      },
      "source": [
        "LinearRegressor.fit(xTrain, yTrain)"
      ],
      "execution_count": 33,
      "outputs": [
        {
          "output_type": "execute_result",
          "data": {
            "text/plain": [
              "LinearRegression(copy_X=True, fit_intercept=True, n_jobs=None, normalize=False)"
            ]
          },
          "metadata": {
            "tags": []
          },
          "execution_count": 33
        }
      ]
    },
    {
      "cell_type": "code",
      "metadata": {
        "id": "fgjapevZYLi6",
        "colab_type": "code",
        "colab": {}
      },
      "source": [
        "yPrediction = LinearRegressor.predict(xTest)"
      ],
      "execution_count": 0,
      "outputs": []
    },
    {
      "cell_type": "code",
      "metadata": {
        "id": "deJaHXFUc_2z",
        "colab_type": "code",
        "colab": {
          "base_uri": "https://localhost:8080/",
          "height": 67
        },
        "outputId": "e8c88f31-46d1-4deb-93d0-ab940f49a612"
      },
      "source": [
        "yPrediction"
      ],
      "execution_count": 85,
      "outputs": [
        {
          "output_type": "execute_result",
          "data": {
            "text/plain": [
              "array([ 58479.45146856,  78391.80502068, 111104.95728489,  81236.4269567 ,\n",
              "        66302.16179261,  69857.93921263,  86214.51534473,  94037.22566878,\n",
              "        71991.40566464,  51367.89662851])"
            ]
          },
          "metadata": {
            "tags": []
          },
          "execution_count": 85
        }
      ]
    },
    {
      "cell_type": "code",
      "metadata": {
        "id": "ACDqb0zEdDao",
        "colab_type": "code",
        "colab": {
          "base_uri": "https://localhost:8080/",
          "height": 295
        },
        "outputId": "d70905fd-6d97-43ed-ec4d-ee912c6482a3"
      },
      "source": [
        "plot.scatter(xTrain, yTrain, color='red')\n",
        "plot.plot(xTrain, LinearRegressor.predict(xTrain), color='blue')\n",
        "plot.title('Salary vs Experience (Test set)')\n",
        "plot.xlabel('Years of Experience')\n",
        "plot.ylabel('Salary')\n",
        "plot.show()"
      ],
      "execution_count": 86,
      "outputs": [
        {
          "output_type": "display_data",
          "data": {
            "image/png": "[encoded data removed]",
            "text/plain": [
              "<Figure size 432x288 with 1 Axes>"
            ]
          },
          "metadata": {
            "tags": []
          }
        }
      ]
    },
    {
      "cell_type": "code",
      "metadata": {
        "id": "iz0T4lineXAG",
        "colab_type": "code",
        "colab": {}
      },
      "source": [
        "x= np.append(x,np.array([[2.1]]), axis=0)"
      ],
      "execution_count": 0,
      "outputs": []
    },
    {
      "cell_type": "code",
      "metadata": {
        "id": "e5y2OtfDfULV",
        "colab_type": "code",
        "colab": {}
      },
      "source": [
        "y=np.append(y,[122222])"
      ],
      "execution_count": 0,
      "outputs": []
    },
    {
      "cell_type": "code",
      "metadata": {
        "id": "gJalFRnHfhiR",
        "colab_type": "code",
        "colab": {
          "base_uri": "https://localhost:8080/",
          "height": 282
        },
        "outputId": "de08966e-cac8-4fe7-c700-bbb001c86c99"
      },
      "source": [
        "plt.scatter(x,y)"
      ],
      "execution_count": 80,
      "outputs": [
        {
          "output_type": "execute_result",
          "data": {
            "text/plain": [
              "<matplotlib.collections.PathCollection at 0x7f13ba037cc0>"
            ]
          },
          "metadata": {
            "tags": []
          },
          "execution_count": 80
        },
        {
          "output_type": "display_data",
          "data": {
            "image/png": "[encoded data removed]",
            "text/plain": [
              "<Figure size 432x288 with 1 Axes>"
            ]
          },
          "metadata": {
            "tags": []
          }
        }
      ]
    },
    {
      "cell_type": "code",
      "metadata": {
        "id": "l0EL4wH9fmC0",
        "colab_type": "code",
        "colab": {}
      },
      "source": [
        "xTrain, xTest, yTrain, yTest=train_test_split(x,y, test_size= .30, random_state=42)"
      ],
      "execution_count": 0,
      "outputs": []
    },
    {
      "cell_type": "code",
      "metadata": {
        "id": "Iw8Mt5Cmf9kJ",
        "colab_type": "code",
        "colab": {
          "base_uri": "https://localhost:8080/",
          "height": 67
        },
        "outputId": "8402d052-de86-4888-c8a3-2f05358967b2"
      },
      "source": [
        "LinearRegressor=LinearRegression()\n",
        "LinearRegressor.fit(xTrain, yTrain)\n",
        "y_Prediction= LinearRegressor.predict(xTest)\n",
        "print(y_Prediction)"
      ],
      "execution_count": 82,
      "outputs": [
        {
          "output_type": "stream",
          "text": [
            "[ 58479.45146856  78391.80502068 111104.95728489  81236.4269567\n",
            "  66302.16179261  69857.93921263  86214.51534473  94037.22566878\n",
            "  71991.40566464  51367.89662851]\n"
          ],
          "name": "stdout"
        }
      ]
    },
    {
      "cell_type": "code",
      "metadata": {
        "id": "kbeNDfLsgT4h",
        "colab_type": "code",
        "colab": {
          "base_uri": "https://localhost:8080/",
          "height": 295
        },
        "outputId": "10913630-9ef9-46ca-e812-fa31e4f411e9"
      },
      "source": [
        "plot.scatter(xTrain, yTrain, color='red')\n",
        "plot.plot(xTrain, LinearRegressor.predict(xTrain), color='blue')\n",
        "plot.title('Salary vs Experience (Training Set)')\n",
        "plot.xlabel('Years of Experience')\n",
        "plot.ylabel('Salary')\n",
        "plot.show()"
      ],
      "execution_count": 83,
      "outputs": [
        {
          "output_type": "display_data",
          "data": {
            "image/png": "[encoded data removed]",
            "text/plain": [
              "<Figure size 432x288 with 1 Axes>"
            ]
          },
          "metadata": {
            "tags": []
          }
        }
      ]
    },
    {
      "cell_type": "code",
      "metadata": {
        "id": "-5j-VPaThOHS",
        "colab_type": "code",
        "colab": {}
      },
      "source": [
        ""
      ],
      "execution_count": 0,
      "outputs": []
    },
    {
      "cell_type": "code",
      "metadata": {
        "id": "T0OcykRMhOOL",
        "colab_type": "code",
        "colab": {}
      },
      "source": [
        ""
      ],
      "execution_count": 0,
      "outputs": []
    }
  ]
}